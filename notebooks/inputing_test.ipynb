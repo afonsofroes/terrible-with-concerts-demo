{
 "cells": [
  {
   "attachments": {},
   "cell_type": "markdown",
   "metadata": {},
   "source": [
    "Here I was trying to find a method to extract the relvant artist inputs from a \"weirdly formatted\" output from our \"Shazam\". On the Spotify df, artists are in a string that looks like a list, i.e. \"[Arina Grande, Justin Bieber]\". \"Shazam\" outputs as \"Ariana Grande & Justin Bieber\". Could be simple, but some Artist names include commas, or even the & symbol."
   ]
  },
  {
   "cell_type": "code",
   "execution_count": 37,
   "metadata": {},
   "outputs": [],
   "source": [
    "def sanitize_zasham(artist_name):\n",
    "    artist_name = artist_name.lower()\n",
    "    artist_name = artist_name.split(' &')[0].split(',')[0]\n",
    "    return artist_name"
   ]
  },
  {
   "cell_type": "code",
   "execution_count": 38,
   "metadata": {},
   "outputs": [
    {
     "data": {
      "text/plain": [
       "'ariana grande'"
      ]
     },
     "execution_count": 38,
     "metadata": {},
     "output_type": "execute_result"
    }
   ],
   "source": [
    "sanitize_zasham(\"Ariana Grande & Justin Bieber\")"
   ]
  },
  {
   "cell_type": "code",
   "execution_count": 53,
   "metadata": {},
   "outputs": [
    {
     "data": {
      "text/plain": [
       "True"
      ]
     },
     "execution_count": 53,
     "metadata": {},
     "output_type": "execute_result"
    }
   ],
   "source": [
    "artists = \"['Ariana Grande', 'Justin Bieber']\"\n",
    "find = \"Ariana Grande & Justin Bieber\"\n",
    "sanitize_zasham(find) in artists.lower()"
   ]
  },
  {
   "cell_type": "code",
   "execution_count": 54,
   "metadata": {},
   "outputs": [
    {
     "data": {
      "text/plain": [
       "'ariana grande'"
      ]
     },
     "execution_count": 54,
     "metadata": {},
     "output_type": "execute_result"
    }
   ],
   "source": [
    "sanitize_zasham(find)"
   ]
  },
  {
   "cell_type": "code",
   "execution_count": 55,
   "metadata": {},
   "outputs": [
    {
     "data": {
      "text/plain": [
       "2"
      ]
     },
     "execution_count": 55,
     "metadata": {},
     "output_type": "execute_result"
    }
   ],
   "source": [
    "artists.lower().find(sanitize_zasham(find))"
   ]
  }
 ],
 "metadata": {
  "kernelspec": {
   "display_name": "terrible_with_concerts",
   "language": "python",
   "name": "python3"
  },
  "language_info": {
   "codemirror_mode": {
    "name": "ipython",
    "version": 3
   },
   "file_extension": ".py",
   "mimetype": "text/x-python",
   "name": "python",
   "nbconvert_exporter": "python",
   "pygments_lexer": "ipython3",
   "version": "3.10.6"
  },
  "orig_nbformat": 4
 },
 "nbformat": 4,
 "nbformat_minor": 2
}
