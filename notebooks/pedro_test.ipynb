{
 "cells": [
  {
   "cell_type": "code",
   "execution_count": null,
   "metadata": {},
   "outputs": [],
   "source": [
    "%load_ext autoreload\n",
    "%autoreload 2\n",
    "%reload_ext autoreload"
   ]
  },
  {
   "attachments": {},
   "cell_type": "markdown",
   "metadata": {},
   "source": [
    "Pedro had an idea for how to get matches out of the initial song, so he pulled my iniT_model, as well as some api_requests, and then used it to create a matched_df. This was then implemented into our app."
   ]
  },
  {
   "cell_type": "code",
   "execution_count": null,
   "metadata": {},
   "outputs": [],
   "source": [
    "import pandas as pd\n",
    "from test_package.modules.PCA import pca\n",
    "data = pd.read_csv(\"raw_data/tracks_features.csv\")"
   ]
  },
  {
   "cell_type": "code",
   "execution_count": null,
   "metadata": {},
   "outputs": [],
   "source": [
    "from test_package.modules.api_request import api_request\n",
    "from test_package.modules.nn_model import fit_nn\n",
    "from test_package.modules.PCA import pca\n",
    "from test_package.modules.preprocessing import preprocess_data,preprocess_numerical\n",
    "\n",
    "\n",
    "def init_model(data,\n",
    "               data_upcoming,\n",
    "               n_components=7):\n",
    "    \"\"\"\n",
    "    Initialize the model and return the model object\n",
    "    \"\"\"\n",
    "    preproc_num = preprocess_numerical(data)\n",
    "    preproc_up_num = preprocess_numerical(data_upcoming)\n",
    "    data_pca, data_pca_up = pca(preproc_num, preproc_up_num, n_components)\n",
    "    song_knn = fit_nn(data_pca_up, len(preproc_up_num))\n",
    "\n",
    "    return song_knn, data_pca_up"
   ]
  },
  {
   "cell_type": "code",
   "execution_count": null,
   "metadata": {},
   "outputs": [],
   "source": [
    "song_knn, data_pca = init_model(data,data.iloc[:100])\n",
    "song_knn"
   ]
  },
  {
   "cell_type": "code",
   "execution_count": null,
   "metadata": {},
   "outputs": [],
   "source": [
    "s1 = pd.Series(song_knn.kneighbors(data_pca[0].reshape(1,-1),return_distance=True)[0][0])\n",
    "s2 = pd.Series(song_knn.kneighbors(data_pca[0].reshape(1,-1),return_distance=True)[1][0])"
   ]
  },
  {
   "cell_type": "code",
   "execution_count": null,
   "metadata": {},
   "outputs": [],
   "source": [
    "pd.concat([s1,s2],axis=1)"
   ]
  },
  {
   "cell_type": "code",
   "execution_count": null,
   "metadata": {},
   "outputs": [],
   "source": [
    "def find_artist(data,\n",
    "                song_name,\n",
    "                artist_name,\n",
    "                n_neighbors):\n",
    "    \"\"\"\n",
    "    Finds {n_neighbors} artists that sound like a given song\n",
    "    \"\"\"\n",
    "    model, data_proc = init_model(data, n_neighbors)\n",
    "\n",
    "    song_index = data.index[(data.name == song_name ) & (data.artists.str.strip('[]').str.strip(\"'\") == artist_name)][0]\n",
    "\n",
    "    similar_artist = model.kneighbors(data_proc[song_index].reshape(1, -1),\n",
    "                                         return_distance=False)\n",
    "\n",
    "    return similar_artist"
   ]
  },
  {
   "cell_type": "code",
   "execution_count": null,
   "metadata": {},
   "outputs": [],
   "source": [
    "def find_gig(data,            \n",
    "             song_name,\n",
    "             artist_name,\n",
    "             n_neighbors):\n",
    "    \"\"\"\n",
    "    Find the proposed gigs based on a given song\n",
    "    \"\"\"\n",
    "\n",
    "    gig_list = []\n",
    "\n",
    "    similar_artist = find_artist(data,\n",
    "                                 song_name,\n",
    "                                 artist_name,\n",
    "                                 n_neighbors)\n",
    "\n",
    "    for artist in similar_artist:\n",
    "        gig = api_request(artist)\n",
    "\n",
    "        if gig == 0:\n",
    "            gig_list.append('No gigs found for this artist')\n",
    "        else:\n",
    "            gig_list.append(gig)\n",
    "\n",
    "    return gig_list"
   ]
  },
  {
   "cell_type": "code",
   "execution_count": null,
   "metadata": {},
   "outputs": [],
   "source": [
    "from test_package.modules.PCA import pca\n",
    "data_num = data.select_dtypes(exclude = ['object']).drop(columns = ['track_number', 'disc_number'])\n",
    "prep= preprocess_data(data_num)\n",
    "pca1, pca2 = pca(prep, prep,7)"
   ]
  },
  {
   "cell_type": "code",
   "execution_count": null,
   "metadata": {},
   "outputs": [],
   "source": [
    "preprocess_numerical(data).shape"
   ]
  }
 ],
 "metadata": {
  "kernelspec": {
   "display_name": "terrible_with_concerts",
   "language": "python",
   "name": "python3"
  },
  "language_info": {
   "codemirror_mode": {
    "name": "ipython",
    "version": 3
   },
   "file_extension": ".py",
   "mimetype": "text/x-python",
   "name": "python",
   "nbconvert_exporter": "python",
   "pygments_lexer": "ipython3",
   "version": "3.10.6"
  },
  "orig_nbformat": 4
 },
 "nbformat": 4,
 "nbformat_minor": 2
}
