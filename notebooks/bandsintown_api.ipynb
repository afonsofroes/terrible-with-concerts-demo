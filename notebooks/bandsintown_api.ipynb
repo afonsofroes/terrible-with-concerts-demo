{
 "cells": [
  {
   "attachments": {},
   "cell_type": "markdown",
   "metadata": {},
   "source": [
    "This ipynb was done by Marat. Was pretty helpful to design the bandsintown requests in the api_request module"
   ]
  },
  {
   "cell_type": "code",
   "execution_count": 2,
   "metadata": {},
   "outputs": [],
   "source": [
    "import requests\n",
    "import pandas as pd\n",
    "api_key = 'cfc7fb20ddfa769f9def3f4dc02bc45d'"
   ]
  },
  {
   "cell_type": "code",
   "execution_count": 23,
   "metadata": {},
   "outputs": [],
   "source": [
    "params = {'date':'upcoming'}\n",
    "artist_name = 'Vintage Culture'"
   ]
  },
  {
   "cell_type": "code",
   "execution_count": 36,
   "metadata": {},
   "outputs": [
    {
     "data": {
      "text/plain": [
       "'https://www.bandsintown.com/e/1027149377?app_id=cfc7fb20ddfa769f9def3f4dc02bc45d&came_from=267&utm_medium=api&utm_source=public_api&utm_campaign=event'"
      ]
     },
     "execution_count": 36,
     "metadata": {},
     "output_type": "execute_result"
    }
   ],
   "source": [
    "url = 'https://rest.bandsintown.com/artists/'\n",
    "response = requests.get(f'{url}{artist_name}/events?app_id={api_key}', params=params)\n",
    "# prediction1 = response.json()[1]['venue']['city']\n",
    "# prediction1\n",
    "prediction = response.json()\n",
    "cities = []\n",
    "times = []\n",
    "countries = []\n",
    "for i, pred in enumerate(prediction):\n",
    "    city = response.json()[i]['venue']['city']\n",
    "    country = response.json()[i]['venue']['country']\n",
    "    time = response.json()[i]['starts_at']\n",
    "    cities.append(city)\n",
    "    times.append(time)\n",
    "    countries.append(country)\n",
    "tabledata=[cities, countries, times]\n",
    "df = pd.DataFrame(tabledata)\n",
    "\n",
    "df = df.transpose()\n",
    "df.columns = ['City', 'Country', 'Date and time']\n",
    "df['Date and time']=df['Date and time'].str.replace('T', ' ')\n",
    "f'{url}{artist_name}/events?app_id={api_key}'\n",
    "\n",
    "prediction[prediction[0]['venue']['city'] == 'Lisboa']['url']"
   ]
  },
  {
   "cell_type": "markdown",
   "metadata": {},
   "source": []
  },
  {
   "cell_type": "code",
   "execution_count": 5,
   "metadata": {},
   "outputs": [
    {
     "data": {
      "text/html": [
       "<div>\n",
       "<style scoped>\n",
       "    .dataframe tbody tr th:only-of-type {\n",
       "        vertical-align: middle;\n",
       "    }\n",
       "\n",
       "    .dataframe tbody tr th {\n",
       "        vertical-align: top;\n",
       "    }\n",
       "\n",
       "    .dataframe thead th {\n",
       "        text-align: right;\n",
       "    }\n",
       "</style>\n",
       "<table border=\"1\" class=\"dataframe\">\n",
       "  <thead>\n",
       "    <tr style=\"text-align: right;\">\n",
       "      <th></th>\n",
       "      <th>City</th>\n",
       "      <th>Country</th>\n",
       "      <th>Date and time</th>\n",
       "    </tr>\n",
       "  </thead>\n",
       "  <tbody>\n",
       "  </tbody>\n",
       "</table>\n",
       "</div>"
      ],
      "text/plain": [
       "Empty DataFrame\n",
       "Columns: [City, Country, Date and time]\n",
       "Index: []"
      ]
     },
     "execution_count": 5,
     "metadata": {},
     "output_type": "execute_result"
    }
   ],
   "source": [
    "#Search by city\n",
    "venues_in_city = df[df['City'].str.contains('Lisboa')]\n",
    "venues_in_city"
   ]
  },
  {
   "cell_type": "code",
   "execution_count": 9,
   "metadata": {},
   "outputs": [
    {
     "data": {
      "text/html": [
       "<div>\n",
       "<style scoped>\n",
       "    .dataframe tbody tr th:only-of-type {\n",
       "        vertical-align: middle;\n",
       "    }\n",
       "\n",
       "    .dataframe tbody tr th {\n",
       "        vertical-align: top;\n",
       "    }\n",
       "\n",
       "    .dataframe thead th {\n",
       "        text-align: right;\n",
       "    }\n",
       "</style>\n",
       "<table border=\"1\" class=\"dataframe\">\n",
       "  <thead>\n",
       "    <tr style=\"text-align: right;\">\n",
       "      <th></th>\n",
       "      <th>City</th>\n",
       "      <th>Country</th>\n",
       "      <th>Date and time</th>\n",
       "    </tr>\n",
       "  </thead>\n",
       "  <tbody>\n",
       "    <tr>\n",
       "      <th>0</th>\n",
       "      <td>Lisboa</td>\n",
       "      <td>Portugal</td>\n",
       "      <td>2023-03-09 21:30:00</td>\n",
       "    </tr>\n",
       "    <tr>\n",
       "      <th>1</th>\n",
       "      <td>Porto</td>\n",
       "      <td>Portugal</td>\n",
       "      <td>2023-03-11 21:00:00</td>\n",
       "    </tr>\n",
       "  </tbody>\n",
       "</table>\n",
       "</div>"
      ],
      "text/plain": [
       "     City   Country        Date and time\n",
       "0  Lisboa  Portugal  2023-03-09 21:30:00\n",
       "1   Porto  Portugal  2023-03-11 21:00:00"
      ]
     },
     "execution_count": 9,
     "metadata": {},
     "output_type": "execute_result"
    }
   ],
   "source": [
    "#Search by country\n",
    "venues_in_country = df[df['Country'].str.contains('Portugal')]\n",
    "venues_in_country"
   ]
  },
  {
   "cell_type": "code",
   "execution_count": 15,
   "metadata": {},
   "outputs": [],
   "source": [
    "def bandsintown_request(artist_name, min_date, city='Lisboa'):\n",
    "    \"\"\"\n",
    "    Get the bandsintown info for the artist\n",
    "    \"\"\"\n",
    "\n",
    "    print('Getting bandsintown info...')\n",
    "\n",
    "    api_key = 'cfc7fb20ddfa769f9def3f4dc02bc45d'\n",
    "\n",
    "    params = {'date':'upcoming'}\n",
    "\n",
    "    url = 'https://rest.bandsintown.com/artists/'\n",
    "    response = requests.get(f'{url}{artist_name}/events?app_id={api_key}', params=params).json()\n",
    "\n",
    "    gig_list = []\n",
    "    print(f'Found some {artist_name} gigs in {city}')\n",
    "    for gig in response:\n",
    "        if gig['venue']['city'] == city and gig['starts_at'] >= min_date:\n",
    "            gig_list.append(gig)\n",
    "\n",
    "    ticket_link = gig_list[0]\n",
    "\n",
    "    print('Bandsintown info gathered! :)')\n",
    "\n",
    "    return ticket_link"
   ]
  },
  {
   "cell_type": "code",
   "execution_count": 16,
   "metadata": {},
   "outputs": [
    {
     "name": "stdout",
     "output_type": "stream",
     "text": [
      "Getting bandsintown info...\n",
      "Found some Pixies gigs in Lisboa\n"
     ]
    },
    {
     "ename": "IndexError",
     "evalue": "list index out of range",
     "output_type": "error",
     "traceback": [
      "\u001b[0;31m---------------------------------------------------------------------------\u001b[0m",
      "\u001b[0;31mIndexError\u001b[0m                                Traceback (most recent call last)",
      "Cell \u001b[0;32mIn[16], line 1\u001b[0m\n\u001b[0;32m----> 1\u001b[0m bandsintown_request(\u001b[39m'\u001b[39;49m\u001b[39mPixies\u001b[39;49m\u001b[39m'\u001b[39;49m, \u001b[39m'\u001b[39;49m\u001b[39m2023-03-01\u001b[39;49m\u001b[39m'\u001b[39;49m, \u001b[39m'\u001b[39;49m\u001b[39mLisboa\u001b[39;49m\u001b[39m'\u001b[39;49m)\n",
      "Cell \u001b[0;32mIn[15], line 21\u001b[0m, in \u001b[0;36mbandsintown_request\u001b[0;34m(artist_name, min_date, city)\u001b[0m\n\u001b[1;32m     18\u001b[0m     \u001b[39mif\u001b[39;00m gig[\u001b[39m'\u001b[39m\u001b[39mvenue\u001b[39m\u001b[39m'\u001b[39m][\u001b[39m'\u001b[39m\u001b[39mcity\u001b[39m\u001b[39m'\u001b[39m] \u001b[39m==\u001b[39m city \u001b[39mand\u001b[39;00m gig[\u001b[39m'\u001b[39m\u001b[39mstarts_at\u001b[39m\u001b[39m'\u001b[39m] \u001b[39m>\u001b[39m\u001b[39m=\u001b[39m min_date:\n\u001b[1;32m     19\u001b[0m         gig_list\u001b[39m.\u001b[39mappend(gig)\n\u001b[0;32m---> 21\u001b[0m ticket_link \u001b[39m=\u001b[39m gig_list[\u001b[39m0\u001b[39;49m]\n\u001b[1;32m     23\u001b[0m \u001b[39mprint\u001b[39m(\u001b[39m'\u001b[39m\u001b[39mBandsintown info gathered! :)\u001b[39m\u001b[39m'\u001b[39m)\n\u001b[1;32m     25\u001b[0m \u001b[39mreturn\u001b[39;00m ticket_link\n",
      "\u001b[0;31mIndexError\u001b[0m: list index out of range"
     ]
    }
   ],
   "source": [
    "bandsintown_request('Pixies', '2023-03-01', 'Lisboa')"
   ]
  },
  {
   "cell_type": "code",
   "execution_count": 17,
   "metadata": {},
   "outputs": [],
   "source": [
    "api_key = 'cfc7fb20ddfa769f9def3f4dc02bc45d'\n",
    "city = 'Lisboa'\n",
    "min_date = '2021-03-01'\n",
    "artist_name = 'Don Campbell'\n",
    "\n",
    "params = {'date':'upcoming'}\n",
    "url = 'https://rest.bandsintown.com/artists/'\n",
    "response = requests.get(f'{url}{artist_name}/events?app_id={api_key}', params=params).json()\n",
    "\n",
    "gig_list = []\n",
    "for gig in response:\n",
    "    if gig['venue']['city'] == city and gig['starts_at'] >= min_date:\n",
    "        gig_list.append(gig)\n",
    "        \n",
    "if city == 'Lisboa' and len(gig_list) == 0:\n",
    "    city = 'Lisbon'\n",
    "    min_date = min_date\n",
    "    artist_name = artist_name\n",
    "\n",
    "    params = {'date':'upcoming'}\n",
    "    headers = {'Accept-Language': 'en-US'}\n",
    "    url = 'https://rest.bandsintown.com/artists/'\n",
    "    response = requests.get(f'{url}{artist_name}/events?app_id={api_key}', params=params, headers=headers).json()\n",
    "\n",
    "    for gig in response:\n",
    "        if gig['venue']['city'] == city and gig['starts_at'] >= min_date:\n",
    "            gig_list.append(gig)"
   ]
  },
  {
   "cell_type": "code",
   "execution_count": 18,
   "metadata": {},
   "outputs": [
    {
     "data": {
      "text/plain": [
       "[]"
      ]
     },
     "execution_count": 18,
     "metadata": {},
     "output_type": "execute_result"
    }
   ],
   "source": [
    "gigs_df = gig_list\n",
    "gigs_df"
   ]
  },
  {
   "cell_type": "code",
   "execution_count": 3,
   "metadata": {},
   "outputs": [
    {
     "data": {
      "text/plain": [
       "'38.7571856'"
      ]
     },
     "execution_count": 3,
     "metadata": {},
     "output_type": "execute_result"
    }
   ],
   "source": [
    "api_key = 'cfc7fb20ddfa769f9def3f4dc02bc45d'\n",
    "artist_name = 'the comet is coming'\n",
    "city = 'Lisboa'\n",
    "min_date = '2021-03-01'\n",
    "\n",
    "params = {'date':'upcoming'}\n",
    "\n",
    "url = 'https://rest.bandsintown.com/artists/'\n",
    "response = requests.get(f'{url}{artist_name}/events?app_id={api_key}', params=params).json()\n",
    "\n",
    "gig_list = []\n",
    "\n",
    "for gig in response:\n",
    "    if gig['venue']['city'] == city and gig['starts_at'] >= min_date:\n",
    "        gig_list.append(gig)\n",
    "\n",
    "if city == 'Lisboa' and len(gig_list) == 0:\n",
    "\n",
    "    city = 'Lisbon'\n",
    "\n",
    "    for gig in response:\n",
    "        if gig['venue']['city'] == city and gig['starts_at'] >= min_date:\n",
    "            gig_list.append(gig)\n",
    "\n",
    "ticket_link = gig_list[0]['url']\n",
    "gig_list[0]['venue']['latitude']"
   ]
  },
  {
   "cell_type": "code",
   "execution_count": null,
   "metadata": {},
   "outputs": [],
   "source": []
  }
 ],
 "metadata": {
  "kernelspec": {
   "display_name": "lewagon",
   "language": "python",
   "name": "python3"
  },
  "language_info": {
   "codemirror_mode": {
    "name": "ipython",
    "version": 3
   },
   "file_extension": ".py",
   "mimetype": "text/x-python",
   "name": "python",
   "nbconvert_exporter": "python",
   "pygments_lexer": "ipython3",
   "version": "3.10.6"
  },
  "orig_nbformat": 4
 },
 "nbformat": 4,
 "nbformat_minor": 2
}
