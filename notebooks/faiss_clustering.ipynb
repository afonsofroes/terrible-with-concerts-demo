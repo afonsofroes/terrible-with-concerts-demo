{
 "cells": [
  {
   "attachments": {},
   "cell_type": "markdown",
   "id": "5ec6043b",
   "metadata": {},
   "source": [
    "# Data import"
   ]
  },
  {
   "cell_type": "code",
   "execution_count": 1,
   "id": "4e051261",
   "metadata": {},
   "outputs": [],
   "source": [
    "import pandas as pd\n",
    "import numpy as np\n",
    "import matplotlib.pyplot as plt\n",
    "import seaborn as sns\n",
    "import plotly.express as px\n",
    "from sklearn.neighbors import KNeighborsClassifier\n",
    "from sklearn.metrics import silhouette_score"
   ]
  },
  {
   "cell_type": "code",
   "execution_count": 2,
   "id": "76143a6c",
   "metadata": {},
   "outputs": [],
   "source": [
    "data = pd.read_csv('./raw_data/tracks_features.csv')"
   ]
  },
  {
   "cell_type": "code",
   "execution_count": 5,
   "id": "3f866e30",
   "metadata": {},
   "outputs": [
    {
     "data": {
      "text/plain": [
       "Index(['id', 'name', 'album', 'album_id', 'artists', 'artist_ids',\n",
       "       'track_number', 'disc_number', 'explicit', 'danceability', 'energy',\n",
       "       'key', 'loudness', 'mode', 'speechiness', 'acousticness',\n",
       "       'instrumentalness', 'liveness', 'valence', 'tempo', 'duration_ms',\n",
       "       'time_signature', 'year', 'release_date'],\n",
       "      dtype='object')"
      ]
     },
     "execution_count": 5,
     "metadata": {},
     "output_type": "execute_result"
    }
   ],
   "source": [
    "data.columns"
   ]
  },
  {
   "cell_type": "code",
   "execution_count": 3,
   "id": "88653ad8",
   "metadata": {},
   "outputs": [],
   "source": [
    "data_num = data.select_dtypes(exclude = ['object'])"
   ]
  },
  {
   "attachments": {},
   "cell_type": "markdown",
   "id": "7092a4bd",
   "metadata": {},
   "source": [
    "# Basic Preproc Pipeline"
   ]
  },
  {
   "cell_type": "code",
   "execution_count": 4,
   "id": "9776d761",
   "metadata": {},
   "outputs": [],
   "source": [
    "from sklearn.pipeline import make_pipeline\n",
    "from sklearn.compose import ColumnTransformer\n",
    "from sklearn.preprocessing import RobustScaler\n",
    "from sklearn.decomposition import PCA\n",
    "from sklearn.cluster import KMeans\n",
    "import faiss"
   ]
  },
  {
   "attachments": {},
   "cell_type": "markdown",
   "id": "0ca40c3a",
   "metadata": {},
   "source": [
    "I did't really give this too much thought, but I decided to just run a robust scaler on every numeric column to try out PCA and unsupervised NN hyperparameters"
   ]
  },
  {
   "cell_type": "code",
   "execution_count": 41,
   "id": "b7fcb7b4",
   "metadata": {},
   "outputs": [],
   "source": [
    "scaler = RobustScaler()\n",
    "data_scaled = pd.DataFrame(scaler.fit_transform(data_num), columns=data_num.columns)"
   ]
  },
  {
   "cell_type": "code",
   "execution_count": 9,
   "id": "a611086b",
   "metadata": {},
   "outputs": [
    {
     "data": {
      "text/plain": [
       "(1204025, 17)"
      ]
     },
     "execution_count": 9,
     "metadata": {},
     "output_type": "execute_result"
    }
   ],
   "source": [
    "data_scaled.shape"
   ]
  },
  {
   "cell_type": "code",
   "execution_count": 10,
   "id": "adbcc13e",
   "metadata": {},
   "outputs": [],
   "source": [
    "faiss_scaled = faiss.Kmeans(data_scaled.shape[1], 10, niter=20, verbose=True)"
   ]
  },
  {
   "cell_type": "code",
   "execution_count": 42,
   "id": "269436d3",
   "metadata": {},
   "outputs": [
    {
     "data": {
      "text/html": [
       "<style>#sk-container-id-3 {color: black;background-color: white;}#sk-container-id-3 pre{padding: 0;}#sk-container-id-3 div.sk-toggleable {background-color: white;}#sk-container-id-3 label.sk-toggleable__label {cursor: pointer;display: block;width: 100%;margin-bottom: 0;padding: 0.3em;box-sizing: border-box;text-align: center;}#sk-container-id-3 label.sk-toggleable__label-arrow:before {content: \"▸\";float: left;margin-right: 0.25em;color: #696969;}#sk-container-id-3 label.sk-toggleable__label-arrow:hover:before {color: black;}#sk-container-id-3 div.sk-estimator:hover label.sk-toggleable__label-arrow:before {color: black;}#sk-container-id-3 div.sk-toggleable__content {max-height: 0;max-width: 0;overflow: hidden;text-align: left;background-color: #f0f8ff;}#sk-container-id-3 div.sk-toggleable__content pre {margin: 0.2em;color: black;border-radius: 0.25em;background-color: #f0f8ff;}#sk-container-id-3 input.sk-toggleable__control:checked~div.sk-toggleable__content {max-height: 200px;max-width: 100%;overflow: auto;}#sk-container-id-3 input.sk-toggleable__control:checked~label.sk-toggleable__label-arrow:before {content: \"▾\";}#sk-container-id-3 div.sk-estimator input.sk-toggleable__control:checked~label.sk-toggleable__label {background-color: #d4ebff;}#sk-container-id-3 div.sk-label input.sk-toggleable__control:checked~label.sk-toggleable__label {background-color: #d4ebff;}#sk-container-id-3 input.sk-hidden--visually {border: 0;clip: rect(1px 1px 1px 1px);clip: rect(1px, 1px, 1px, 1px);height: 1px;margin: -1px;overflow: hidden;padding: 0;position: absolute;width: 1px;}#sk-container-id-3 div.sk-estimator {font-family: monospace;background-color: #f0f8ff;border: 1px dotted black;border-radius: 0.25em;box-sizing: border-box;margin-bottom: 0.5em;}#sk-container-id-3 div.sk-estimator:hover {background-color: #d4ebff;}#sk-container-id-3 div.sk-parallel-item::after {content: \"\";width: 100%;border-bottom: 1px solid gray;flex-grow: 1;}#sk-container-id-3 div.sk-label:hover label.sk-toggleable__label {background-color: #d4ebff;}#sk-container-id-3 div.sk-serial::before {content: \"\";position: absolute;border-left: 1px solid gray;box-sizing: border-box;top: 0;bottom: 0;left: 50%;z-index: 0;}#sk-container-id-3 div.sk-serial {display: flex;flex-direction: column;align-items: center;background-color: white;padding-right: 0.2em;padding-left: 0.2em;position: relative;}#sk-container-id-3 div.sk-item {position: relative;z-index: 1;}#sk-container-id-3 div.sk-parallel {display: flex;align-items: stretch;justify-content: center;background-color: white;position: relative;}#sk-container-id-3 div.sk-item::before, #sk-container-id-3 div.sk-parallel-item::before {content: \"\";position: absolute;border-left: 1px solid gray;box-sizing: border-box;top: 0;bottom: 0;left: 50%;z-index: -1;}#sk-container-id-3 div.sk-parallel-item {display: flex;flex-direction: column;z-index: 1;position: relative;background-color: white;}#sk-container-id-3 div.sk-parallel-item:first-child::after {align-self: flex-end;width: 50%;}#sk-container-id-3 div.sk-parallel-item:last-child::after {align-self: flex-start;width: 50%;}#sk-container-id-3 div.sk-parallel-item:only-child::after {width: 0;}#sk-container-id-3 div.sk-dashed-wrapped {border: 1px dashed gray;margin: 0 0.4em 0.5em 0.4em;box-sizing: border-box;padding-bottom: 0.4em;background-color: white;}#sk-container-id-3 div.sk-label label {font-family: monospace;font-weight: bold;display: inline-block;line-height: 1.2em;}#sk-container-id-3 div.sk-label-container {text-align: center;}#sk-container-id-3 div.sk-container {/* jupyter's `normalize.less` sets `[hidden] { display: none; }` but bootstrap.min.css set `[hidden] { display: none !important; }` so we also need the `!important` here to be able to override the default hidden behavior on the sphinx rendered scikit-learn.org. See: https://github.com/scikit-learn/scikit-learn/issues/21755 */display: inline-block !important;position: relative;}#sk-container-id-3 div.sk-text-repr-fallback {display: none;}</style><div id=\"sk-container-id-3\" class=\"sk-top-container\"><div class=\"sk-text-repr-fallback\"><pre>PCA()</pre><b>In a Jupyter environment, please rerun this cell to show the HTML representation or trust the notebook. <br />On GitHub, the HTML representation is unable to render, please try loading this page with nbviewer.org.</b></div><div class=\"sk-container\" hidden><div class=\"sk-item\"><div class=\"sk-estimator sk-toggleable\"><input class=\"sk-toggleable__control sk-hidden--visually\" id=\"sk-estimator-id-3\" type=\"checkbox\" checked><label for=\"sk-estimator-id-3\" class=\"sk-toggleable__label sk-toggleable__label-arrow\">PCA</label><div class=\"sk-toggleable__content\"><pre>PCA()</pre></div></div></div></div></div>"
      ],
      "text/plain": [
       "PCA()"
      ]
     },
     "execution_count": 42,
     "metadata": {},
     "output_type": "execute_result"
    }
   ],
   "source": [
    "pca = PCA()\n",
    "pca.fit(data_scaled)"
   ]
  },
  {
   "cell_type": "code",
   "execution_count": 11,
   "id": "cb77ff52",
   "metadata": {},
   "outputs": [
    {
     "data": {
      "image/png": "[encoded data removed]",
      "text/plain": [
       "<Figure size 1000x600 with 1 Axes>"
      ]
     },
     "metadata": {},
     "output_type": "display_data"
    }
   ],
   "source": [
    "with plt.style.context('seaborn-deep'):\n",
    "    # figsize\n",
    "    plt.figure(figsize=(10,6))\n",
    "    # getting axes\n",
    "    ax = plt.gca()\n",
    "    # plotting\n",
    "    explained_variance_ratio_cumulated = np.cumsum(pca.explained_variance_ratio_)\n",
    "    x_axis_ticks = np.arange(1,explained_variance_ratio_cumulated.shape[0]+1)\n",
    "    ax.plot(x_axis_ticks,explained_variance_ratio_cumulated,label=\"cumulated variance ratio\",color=\"purple\",linestyle=\":\",marker=\"D\",markersize=10)\n",
    "    # customizing\n",
    "    ax.set_xlabel('Number of Principal Components')\n",
    "    ax.set_ylabel('% cumulated explained variance')\n",
    "    ax.legend(loc=\"upper left\")\n",
    "    ax.set_title('The Elbow Method')\n",
    "    ax.set_xticks(x_axis_ticks)\n",
    "    ax.scatter(7,explained_variance_ratio_cumulated[7-1],c='blue',s=400)\n",
    "    ax.grid(axis=\"x\",linewidth=0.5)\n",
    "    ax.grid(axis=\"y\",linewidth=0.5)\n",
    "    plt.show()\n"
   ]
  },
  {
   "attachments": {},
   "cell_type": "markdown",
   "id": "d66a0348",
   "metadata": {},
   "source": [
    "The elbow method suggests that 7 components are sufficient."
   ]
  },
  {
   "cell_type": "code",
   "execution_count": 51,
   "id": "ca1b500e",
   "metadata": {},
   "outputs": [],
   "source": [
    "data_pca = pd.DataFrame(pca.transform(data_scaled)).sample(10000, random_state=42)"
   ]
  },
  {
   "cell_type": "code",
   "execution_count": 52,
   "id": "93866295",
   "metadata": {},
   "outputs": [],
   "source": [
    "data_pca = data_pca.to_numpy()"
   ]
  },
  {
   "cell_type": "markdown",
   "id": "351002ef",
   "metadata": {},
   "source": [
    "### How many clusters in the KMeans?"
   ]
  },
  {
   "attachments": {},
   "cell_type": "markdown",
   "id": "d5f837f0",
   "metadata": {},
   "source": [
    "This ended up not making it to the final product, as we ended up not needing any clustering models, however, I learned a lot doing this! I used Meta's Faiss package, which was unbelievably fast (running on my GPU). I also used the silhouette method to assess how many clusters I should use in the Faiss KMeans"
   ]
  },
  {
   "cell_type": "code",
   "execution_count": 25,
   "id": "510acb93",
   "metadata": {},
   "outputs": [
    {
     "name": "stdout",
     "output_type": "stream",
     "text": [
      "working with 1 clusters...\n"
     ]
    },
    {
     "name": "stderr",
     "output_type": "stream",
     "text": [
      "/home/afonsofroes/.pyenv/versions/3.10.6/envs/terrible_with_concerts/lib/python3.10/site-packages/sklearn/cluster/_kmeans.py:870: FutureWarning: The default value of `n_init` will change from 10 to 'auto' in 1.4. Set the value of `n_init` explicitly to suppress the warning\n",
      "  warnings.warn(\n"
     ]
    },
    {
     "name": "stdout",
     "output_type": "stream",
     "text": [
      "working with 2 clusters...\n"
     ]
    },
    {
     "name": "stderr",
     "output_type": "stream",
     "text": [
      "/home/afonsofroes/.pyenv/versions/3.10.6/envs/terrible_with_concerts/lib/python3.10/site-packages/sklearn/cluster/_kmeans.py:870: FutureWarning: The default value of `n_init` will change from 10 to 'auto' in 1.4. Set the value of `n_init` explicitly to suppress the warning\n",
      "  warnings.warn(\n"
     ]
    },
    {
     "name": "stdout",
     "output_type": "stream",
     "text": [
      "working with 3 clusters...\n"
     ]
    },
    {
     "name": "stderr",
     "output_type": "stream",
     "text": [
      "/home/afonsofroes/.pyenv/versions/3.10.6/envs/terrible_with_concerts/lib/python3.10/site-packages/sklearn/cluster/_kmeans.py:870: FutureWarning: The default value of `n_init` will change from 10 to 'auto' in 1.4. Set the value of `n_init` explicitly to suppress the warning\n",
      "  warnings.warn(\n"
     ]
    },
    {
     "name": "stdout",
     "output_type": "stream",
     "text": [
      "working with 4 clusters...\n"
     ]
    },
    {
     "name": "stderr",
     "output_type": "stream",
     "text": [
      "/home/afonsofroes/.pyenv/versions/3.10.6/envs/terrible_with_concerts/lib/python3.10/site-packages/sklearn/cluster/_kmeans.py:870: FutureWarning: The default value of `n_init` will change from 10 to 'auto' in 1.4. Set the value of `n_init` explicitly to suppress the warning\n",
      "  warnings.warn(\n"
     ]
    },
    {
     "name": "stdout",
     "output_type": "stream",
     "text": [
      "working with 5 clusters...\n"
     ]
    },
    {
     "name": "stderr",
     "output_type": "stream",
     "text": [
      "/home/afonsofroes/.pyenv/versions/3.10.6/envs/terrible_with_concerts/lib/python3.10/site-packages/sklearn/cluster/_kmeans.py:870: FutureWarning: The default value of `n_init` will change from 10 to 'auto' in 1.4. Set the value of `n_init` explicitly to suppress the warning\n",
      "  warnings.warn(\n"
     ]
    },
    {
     "name": "stdout",
     "output_type": "stream",
     "text": [
      "working with 6 clusters...\n"
     ]
    },
    {
     "name": "stderr",
     "output_type": "stream",
     "text": [
      "/home/afonsofroes/.pyenv/versions/3.10.6/envs/terrible_with_concerts/lib/python3.10/site-packages/sklearn/cluster/_kmeans.py:870: FutureWarning: The default value of `n_init` will change from 10 to 'auto' in 1.4. Set the value of `n_init` explicitly to suppress the warning\n",
      "  warnings.warn(\n"
     ]
    },
    {
     "name": "stdout",
     "output_type": "stream",
     "text": [
      "working with 7 clusters...\n"
     ]
    },
    {
     "name": "stderr",
     "output_type": "stream",
     "text": [
      "/home/afonsofroes/.pyenv/versions/3.10.6/envs/terrible_with_concerts/lib/python3.10/site-packages/sklearn/cluster/_kmeans.py:870: FutureWarning: The default value of `n_init` will change from 10 to 'auto' in 1.4. Set the value of `n_init` explicitly to suppress the warning\n",
      "  warnings.warn(\n"
     ]
    },
    {
     "name": "stdout",
     "output_type": "stream",
     "text": [
      "working with 8 clusters...\n"
     ]
    },
    {
     "name": "stderr",
     "output_type": "stream",
     "text": [
      "/home/afonsofroes/.pyenv/versions/3.10.6/envs/terrible_with_concerts/lib/python3.10/site-packages/sklearn/cluster/_kmeans.py:870: FutureWarning: The default value of `n_init` will change from 10 to 'auto' in 1.4. Set the value of `n_init` explicitly to suppress the warning\n",
      "  warnings.warn(\n"
     ]
    },
    {
     "name": "stdout",
     "output_type": "stream",
     "text": [
      "working with 9 clusters...\n"
     ]
    },
    {
     "name": "stderr",
     "output_type": "stream",
     "text": [
      "/home/afonsofroes/.pyenv/versions/3.10.6/envs/terrible_with_concerts/lib/python3.10/site-packages/sklearn/cluster/_kmeans.py:870: FutureWarning: The default value of `n_init` will change from 10 to 'auto' in 1.4. Set the value of `n_init` explicitly to suppress the warning\n",
      "  warnings.warn(\n"
     ]
    },
    {
     "name": "stdout",
     "output_type": "stream",
     "text": [
      "working with 10 clusters...\n"
     ]
    },
    {
     "name": "stderr",
     "output_type": "stream",
     "text": [
      "/home/afonsofroes/.pyenv/versions/3.10.6/envs/terrible_with_concerts/lib/python3.10/site-packages/sklearn/cluster/_kmeans.py:870: FutureWarning: The default value of `n_init` will change from 10 to 'auto' in 1.4. Set the value of `n_init` explicitly to suppress the warning\n",
      "  warnings.warn(\n"
     ]
    },
    {
     "name": "stdout",
     "output_type": "stream",
     "text": [
      "working with 11 clusters...\n"
     ]
    },
    {
     "name": "stderr",
     "output_type": "stream",
     "text": [
      "/home/afonsofroes/.pyenv/versions/3.10.6/envs/terrible_with_concerts/lib/python3.10/site-packages/sklearn/cluster/_kmeans.py:870: FutureWarning: The default value of `n_init` will change from 10 to 'auto' in 1.4. Set the value of `n_init` explicitly to suppress the warning\n",
      "  warnings.warn(\n"
     ]
    },
    {
     "name": "stdout",
     "output_type": "stream",
     "text": [
      "working with 12 clusters...\n"
     ]
    },
    {
     "name": "stderr",
     "output_type": "stream",
     "text": [
      "/home/afonsofroes/.pyenv/versions/3.10.6/envs/terrible_with_concerts/lib/python3.10/site-packages/sklearn/cluster/_kmeans.py:870: FutureWarning: The default value of `n_init` will change from 10 to 'auto' in 1.4. Set the value of `n_init` explicitly to suppress the warning\n",
      "  warnings.warn(\n"
     ]
    },
    {
     "name": "stdout",
     "output_type": "stream",
     "text": [
      "working with 13 clusters...\n"
     ]
    },
    {
     "name": "stderr",
     "output_type": "stream",
     "text": [
      "/home/afonsofroes/.pyenv/versions/3.10.6/envs/terrible_with_concerts/lib/python3.10/site-packages/sklearn/cluster/_kmeans.py:870: FutureWarning: The default value of `n_init` will change from 10 to 'auto' in 1.4. Set the value of `n_init` explicitly to suppress the warning\n",
      "  warnings.warn(\n"
     ]
    },
    {
     "name": "stdout",
     "output_type": "stream",
     "text": [
      "working with 14 clusters...\n"
     ]
    },
    {
     "name": "stderr",
     "output_type": "stream",
     "text": [
      "/home/afonsofroes/.pyenv/versions/3.10.6/envs/terrible_with_concerts/lib/python3.10/site-packages/sklearn/cluster/_kmeans.py:870: FutureWarning: The default value of `n_init` will change from 10 to 'auto' in 1.4. Set the value of `n_init` explicitly to suppress the warning\n",
      "  warnings.warn(\n"
     ]
    },
    {
     "name": "stdout",
     "output_type": "stream",
     "text": [
      "working with 15 clusters...\n"
     ]
    },
    {
     "name": "stderr",
     "output_type": "stream",
     "text": [
      "/home/afonsofroes/.pyenv/versions/3.10.6/envs/terrible_with_concerts/lib/python3.10/site-packages/sklearn/cluster/_kmeans.py:870: FutureWarning: The default value of `n_init` will change from 10 to 'auto' in 1.4. Set the value of `n_init` explicitly to suppress the warning\n",
      "  warnings.warn(\n"
     ]
    },
    {
     "name": "stdout",
     "output_type": "stream",
     "text": [
      "working with 16 clusters...\n"
     ]
    },
    {
     "name": "stderr",
     "output_type": "stream",
     "text": [
      "/home/afonsofroes/.pyenv/versions/3.10.6/envs/terrible_with_concerts/lib/python3.10/site-packages/sklearn/cluster/_kmeans.py:870: FutureWarning: The default value of `n_init` will change from 10 to 'auto' in 1.4. Set the value of `n_init` explicitly to suppress the warning\n",
      "  warnings.warn(\n"
     ]
    },
    {
     "name": "stdout",
     "output_type": "stream",
     "text": [
      "working with 17 clusters...\n"
     ]
    },
    {
     "name": "stderr",
     "output_type": "stream",
     "text": [
      "/home/afonsofroes/.pyenv/versions/3.10.6/envs/terrible_with_concerts/lib/python3.10/site-packages/sklearn/cluster/_kmeans.py:870: FutureWarning: The default value of `n_init` will change from 10 to 'auto' in 1.4. Set the value of `n_init` explicitly to suppress the warning\n",
      "  warnings.warn(\n"
     ]
    },
    {
     "name": "stdout",
     "output_type": "stream",
     "text": [
      "working with 18 clusters...\n"
     ]
    },
    {
     "name": "stderr",
     "output_type": "stream",
     "text": [
      "/home/afonsofroes/.pyenv/versions/3.10.6/envs/terrible_with_concerts/lib/python3.10/site-packages/sklearn/cluster/_kmeans.py:870: FutureWarning: The default value of `n_init` will change from 10 to 'auto' in 1.4. Set the value of `n_init` explicitly to suppress the warning\n",
      "  warnings.warn(\n"
     ]
    },
    {
     "name": "stdout",
     "output_type": "stream",
     "text": [
      "working with 19 clusters...\n"
     ]
    },
    {
     "name": "stderr",
     "output_type": "stream",
     "text": [
      "/home/afonsofroes/.pyenv/versions/3.10.6/envs/terrible_with_concerts/lib/python3.10/site-packages/sklearn/cluster/_kmeans.py:870: FutureWarning: The default value of `n_init` will change from 10 to 'auto' in 1.4. Set the value of `n_init` explicitly to suppress the warning\n",
      "  warnings.warn(\n"
     ]
    },
    {
     "name": "stdout",
     "output_type": "stream",
     "text": [
      "working with 20 clusters...\n"
     ]
    },
    {
     "name": "stderr",
     "output_type": "stream",
     "text": [
      "/home/afonsofroes/.pyenv/versions/3.10.6/envs/terrible_with_concerts/lib/python3.10/site-packages/sklearn/cluster/_kmeans.py:870: FutureWarning: The default value of `n_init` will change from 10 to 'auto' in 1.4. Set the value of `n_init` explicitly to suppress the warning\n",
      "  warnings.warn(\n"
     ]
    },
    {
     "name": "stdout",
     "output_type": "stream",
     "text": [
      "DONE !\n"
     ]
    }
   ],
   "source": [
    "# Apply the elbow method to find the optimal number of clusters.\n",
    "nb_clusters_to_try = np.arange(1,20+1,1)\n",
    "wcss = []\n",
    "\n",
    "for K in nb_clusters_to_try:\n",
    "    print('working with ' + str(K) + ' clusters...', flush=True)\n",
    "    kmeans = KMeans(n_clusters = K)\n",
    "    kmeans.fit(data_pca)\n",
    "    wcss.append(kmeans.inertia_)\n",
    "print(\"DONE !\")"
   ]
  },
  {
   "cell_type": "code",
   "execution_count": 31,
   "id": "5d9c5bad",
   "metadata": {},
   "outputs": [
    {
     "data": {
      "image/png": "[encoded data removed]",
      "text/plain": [
       "<Figure size 2000x1000 with 1 Axes>"
      ]
     },
     "metadata": {},
     "output_type": "display_data"
    }
   ],
   "source": [
    "elbow_highlight = 8\n",
    "with plt.style.context('seaborn-deep'):\n",
    "    # figsize\n",
    "    plt.figure(figsize=(20,10))\n",
    "    # getting axes\n",
    "    ax = plt.gca()\n",
    "    # plotting\n",
    "    ax.plot(nb_clusters_to_try, wcss,color=\"blue\",linestyle=\":\",marker=\"D\",label=\"Inertia\")\n",
    "    # customizing\n",
    "    ax.legend(loc=\"upper right\")\n",
    "    ax.set_title('The Elbow Method')\n",
    "    ax.set_xticks(nb_clusters_to_try)\n",
    "    ax.set_xlabel('Number of clusters')\n",
    "    ax.set_ylabel('Within-Cluster Sums of Squares')\n",
    "    ax.scatter(elbow_highlight,wcss[elbow_highlight-1],c='red',s=400)    \n",
    "    # annotate\n",
    "    #ax.annotate(\"Elbow?\", \n",
    "    #            (elbow_highlight,wcss[elbow_highlight-1]),\n",
    "    #            (elbow_highlight+0.50,wcss[elbow_highlight-1]+5000), \n",
    "    #            arrowprops=dict(facecolor='black'),\n",
    "    #            fontsize=16,\n",
    "    #            horizontalalignment='middle', \n",
    "    #            verticalalignment='top')\n",
    "    \n",
    "    ax.grid(axis=\"y\",linewidth=0.5)\n",
    "    plt.show()"
   ]
  },
  {
   "attachments": {},
   "cell_type": "markdown",
   "id": "ac7c29bf",
   "metadata": {},
   "source": [
    "### Using Faiss Kmeans"
   ]
  },
  {
   "cell_type": "code",
   "execution_count": 53,
   "id": "49d71161",
   "metadata": {},
   "outputs": [
    {
     "name": "stdout",
     "output_type": "stream",
     "text": [
      "Sampling a subset of 512 / 10000 for training\n",
      "Clustering 512 points in 17D to 2 clusters, redo 1 times, 20 iterations\n",
      "  Preprocessing in 0.00 s\n",
      "  Iteration 19 (0.16 s, search 0.13 s): objective=6872.22 imbalance=1.732 nsplit=0       \n",
      "Sampling a subset of 768 / 10000 for training\n",
      "Clustering 768 points in 17D to 3 clusters, redo 1 times, 20 iterations\n",
      "  Preprocessing in 0.00 s\n",
      "  Iteration 19 (0.15 s, search 0.14 s): objective=8425.63 imbalance=2.029 nsplit=0       \n",
      "Sampling a subset of 1024 / 10000 for training\n",
      "Clustering 1024 points in 17D to 4 clusters, redo 1 times, 20 iterations\n",
      "  Preprocessing in 0.00 s\n",
      "  Iteration 19 (0.16 s, search 0.15 s): objective=10447.8 imbalance=1.620 nsplit=0       \n",
      "Sampling a subset of 1280 / 10000 for training\n",
      "Clustering 1280 points in 17D to 5 clusters, redo 1 times, 20 iterations\n",
      "  Preprocessing in 0.00 s\n",
      "  Iteration 19 (0.33 s, search 0.14 s): objective=10748.2 imbalance=2.014 nsplit=0       \n",
      "Sampling a subset of 1536 / 10000 for training\n",
      "Clustering 1536 points in 17D to 6 clusters, redo 1 times, 20 iterations\n",
      "  Preprocessing in 0.00 s\n",
      "  Iteration 19 (0.28 s, search 0.16 s): objective=11599 imbalance=2.067 nsplit=0         \n",
      "Sampling a subset of 1792 / 10000 for training\n",
      "Clustering 1792 points in 17D to 7 clusters, redo 1 times, 20 iterations\n",
      "  Preprocessing in 0.00 s\n",
      "  Iteration 19 (0.40 s, search 0.17 s): objective=12623.4 imbalance=1.906 nsplit=0       \n",
      "Sampling a subset of 2048 / 10000 for training\n",
      "Clustering 2048 points in 17D to 8 clusters, redo 1 times, 20 iterations\n",
      "  Preprocessing in 0.00 s\n",
      "  Iteration 19 (0.23 s, search 0.13 s): objective=13756.6 imbalance=1.989 nsplit=0       \n",
      "Sampling a subset of 2304 / 10000 for training\n",
      "Clustering 2304 points in 17D to 9 clusters, redo 1 times, 20 iterations\n",
      "  Preprocessing in 0.00 s\n",
      "  Iteration 19 (0.15 s, search 0.14 s): objective=14153.7 imbalance=2.328 nsplit=0       \n",
      "Sampling a subset of 2560 / 10000 for training\n",
      "Clustering 2560 points in 17D to 10 clusters, redo 1 times, 20 iterations\n",
      "  Preprocessing in 0.00 s\n",
      "  Iteration 19 (0.16 s, search 0.15 s): objective=15898.9 imbalance=1.691 nsplit=0       \n",
      "Sampling a subset of 2816 / 10000 for training\n",
      "Clustering 2816 points in 17D to 11 clusters, redo 1 times, 20 iterations\n",
      "  Preprocessing in 0.00 s\n",
      "  Iteration 19 (0.16 s, search 0.15 s): objective=17357.6 imbalance=1.737 nsplit=0       \n",
      "Sampling a subset of 3072 / 10000 for training\n",
      "Clustering 3072 points in 17D to 12 clusters, redo 1 times, 20 iterations\n",
      "  Preprocessing in 0.00 s\n",
      "  Iteration 19 (0.31 s, search 0.17 s): objective=17579.2 imbalance=2.174 nsplit=0       \n",
      "Sampling a subset of 3328 / 10000 for training\n",
      "Clustering 3328 points in 17D to 13 clusters, redo 1 times, 20 iterations\n",
      "  Preprocessing in 0.00 s\n",
      "  Iteration 19 (0.17 s, search 0.16 s): objective=18541.5 imbalance=1.826 nsplit=0       \n",
      "Sampling a subset of 3584 / 10000 for training\n",
      "Clustering 3584 points in 17D to 14 clusters, redo 1 times, 20 iterations\n",
      "  Preprocessing in 0.00 s\n",
      "  Iteration 19 (0.16 s, search 0.15 s): objective=19446.6 imbalance=1.588 nsplit=0       \n",
      "Sampling a subset of 3840 / 10000 for training\n",
      "Clustering 3840 points in 17D to 15 clusters, redo 1 times, 20 iterations\n",
      "  Preprocessing in 0.00 s\n",
      "  Iteration 19 (0.17 s, search 0.15 s): objective=20582.2 imbalance=1.480 nsplit=0       \n",
      "Sampling a subset of 4096 / 10000 for training\n",
      "Clustering 4096 points in 17D to 16 clusters, redo 1 times, 20 iterations\n",
      "  Preprocessing in 0.00 s\n",
      "  Iteration 19 (0.18 s, search 0.16 s): objective=21642.8 imbalance=1.593 nsplit=0       \n",
      "Sampling a subset of 4352 / 10000 for training\n",
      "Clustering 4352 points in 17D to 17 clusters, redo 1 times, 20 iterations\n",
      "  Preprocessing in 0.00 s\n",
      "  Iteration 19 (0.27 s, search 0.17 s): objective=22379.4 imbalance=1.426 nsplit=0       \n",
      "Sampling a subset of 4608 / 10000 for training\n",
      "Clustering 4608 points in 17D to 18 clusters, redo 1 times, 20 iterations\n",
      "  Preprocessing in 0.00 s\n",
      "  Iteration 19 (0.26 s, search 0.19 s): objective=23246.9 imbalance=1.453 nsplit=0       \n",
      "Sampling a subset of 4864 / 10000 for training\n",
      "Clustering 4864 points in 17D to 19 clusters, redo 1 times, 20 iterations\n",
      "  Preprocessing in 0.00 s\n",
      "  Iteration 19 (0.17 s, search 0.16 s): objective=24189 imbalance=1.662 nsplit=0         \n",
      "Sampling a subset of 5120 / 10000 for training\n",
      "Clustering 5120 points in 17D to 20 clusters, redo 1 times, 20 iterations\n",
      "  Preprocessing in 0.00 s\n",
      "  Iteration 19 (0.17 s, search 0.16 s): objective=24958.1 imbalance=1.406 nsplit=0       \n",
      "Sampling a subset of 5376 / 10000 for training\n",
      "Clustering 5376 points in 17D to 21 clusters, redo 1 times, 20 iterations\n",
      "  Preprocessing in 0.00 s\n",
      "  Iteration 19 (0.27 s, search 0.17 s): objective=26522.3 imbalance=1.324 nsplit=0       \n",
      "Sampling a subset of 5632 / 10000 for training\n",
      "Clustering 5632 points in 17D to 22 clusters, redo 1 times, 20 iterations\n",
      "  Preprocessing in 0.00 s\n",
      "  Iteration 19 (0.21 s, search 0.19 s): objective=26870 imbalance=1.313 nsplit=0         \n",
      "Sampling a subset of 5888 / 10000 for training\n",
      "Clustering 5888 points in 17D to 23 clusters, redo 1 times, 20 iterations\n",
      "  Preprocessing in 0.00 s\n",
      "  Iteration 19 (0.18 s, search 0.17 s): objective=27914.4 imbalance=1.385 nsplit=0       \n",
      "Sampling a subset of 6144 / 10000 for training\n",
      "Clustering 6144 points in 17D to 24 clusters, redo 1 times, 20 iterations\n",
      "  Preprocessing in 0.00 s\n",
      "  Iteration 19 (0.30 s, search 0.18 s): objective=28715.5 imbalance=1.387 nsplit=0       \n",
      "Sampling a subset of 6400 / 10000 for training\n",
      "Clustering 6400 points in 17D to 25 clusters, redo 1 times, 20 iterations\n",
      "  Preprocessing in 0.00 s\n",
      "  Iteration 19 (0.32 s, search 0.19 s): objective=29799.8 imbalance=1.349 nsplit=0       \n",
      "Sampling a subset of 6656 / 10000 for training\n",
      "Clustering 6656 points in 17D to 26 clusters, redo 1 times, 20 iterations\n",
      "  Preprocessing in 0.00 s\n",
      "  Iteration 19 (0.20 s, search 0.19 s): objective=30815.1 imbalance=1.261 nsplit=0       \n",
      "Sampling a subset of 6912 / 10000 for training\n",
      "Clustering 6912 points in 17D to 27 clusters, redo 1 times, 20 iterations\n",
      "  Preprocessing in 0.00 s\n",
      "  Iteration 19 (0.18 s, search 0.18 s): objective=31544 imbalance=1.313 nsplit=0         \n",
      "Sampling a subset of 7168 / 10000 for training\n",
      "Clustering 7168 points in 17D to 28 clusters, redo 1 times, 20 iterations\n",
      "  Preprocessing in 0.00 s\n",
      "  Iteration 19 (0.20 s, search 0.19 s): objective=31986.2 imbalance=1.320 nsplit=0       \n",
      "Sampling a subset of 7424 / 10000 for training\n",
      "Clustering 7424 points in 17D to 29 clusters, redo 1 times, 20 iterations\n",
      "  Preprocessing in 0.00 s\n",
      "  Iteration 19 (0.19 s, search 0.18 s): objective=33253.7 imbalance=1.295 nsplit=0       \n",
      "Sampling a subset of 7680 / 10000 for training\n",
      "Clustering 7680 points in 17D to 30 clusters, redo 1 times, 20 iterations\n",
      "  Preprocessing in 0.00 s\n",
      "  Iteration 19 (0.19 s, search 0.18 s): objective=34090.9 imbalance=1.286 nsplit=0       \n",
      "Sampling a subset of 7936 / 10000 for training\n",
      "Clustering 7936 points in 17D to 31 clusters, redo 1 times, 20 iterations\n",
      "  Preprocessing in 0.00 s\n",
      "  Iteration 19 (0.17 s, search 0.16 s): objective=35006.2 imbalance=1.238 nsplit=0       \n",
      "Sampling a subset of 8192 / 10000 for training\n",
      "Clustering 8192 points in 17D to 32 clusters, redo 1 times, 20 iterations\n",
      "  Preprocessing in 0.00 s\n",
      "  Iteration 19 (0.32 s, search 0.19 s): objective=35300.2 imbalance=1.341 nsplit=0       \n",
      "Sampling a subset of 8448 / 10000 for training\n",
      "Clustering 8448 points in 17D to 33 clusters, redo 1 times, 20 iterations\n",
      "  Preprocessing in 0.00 s\n",
      "  Iteration 19 (0.64 s, search 0.31 s): objective=36964.7 imbalance=1.281 nsplit=0       \n",
      "Sampling a subset of 8704 / 10000 for training\n",
      "Clustering 8704 points in 17D to 34 clusters, redo 1 times, 20 iterations\n",
      "  Preprocessing in 0.00 s\n",
      "  Iteration 19 (0.33 s, search 0.22 s): objective=37657.1 imbalance=1.275 nsplit=0       \n",
      "Sampling a subset of 8960 / 10000 for training\n",
      "Clustering 8960 points in 17D to 35 clusters, redo 1 times, 20 iterations\n",
      "  Preprocessing in 0.00 s\n",
      "  Iteration 19 (0.24 s, search 0.23 s): objective=37973.7 imbalance=1.268 nsplit=0       \n",
      "Sampling a subset of 9216 / 10000 for training\n",
      "Clustering 9216 points in 17D to 36 clusters, redo 1 times, 20 iterations\n",
      "  Preprocessing in 0.00 s\n",
      "  Iteration 19 (0.32 s, search 0.25 s): objective=39663.1 imbalance=1.287 nsplit=0       \n",
      "Sampling a subset of 9472 / 10000 for training\n",
      "Clustering 9472 points in 17D to 37 clusters, redo 1 times, 20 iterations\n",
      "  Preprocessing in 0.00 s\n",
      "  Iteration 19 (0.26 s, search 0.23 s): objective=40175.3 imbalance=1.338 nsplit=0       \n",
      "Sampling a subset of 9728 / 10000 for training\n",
      "Clustering 9728 points in 17D to 38 clusters, redo 1 times, 20 iterations\n",
      "  Preprocessing in 0.00 s\n",
      "  Iteration 19 (0.34 s, search 0.23 s): objective=40845.7 imbalance=1.274 nsplit=0       \n",
      "Sampling a subset of 9984 / 10000 for training\n",
      "Clustering 9984 points in 17D to 39 clusters, redo 1 times, 20 iterations\n",
      "  Preprocessing in 0.00 s\n",
      "  Iteration 19 (0.25 s, search 0.23 s): objective=41701.7 imbalance=1.244 nsplit=0       \n",
      "Clustering 10000 points in 17D to 40 clusters, redo 1 times, 20 iterations\n",
      "  Preprocessing in 0.00 s\n",
      "  Iteration 19 (0.38 s, search 0.19 s): objective=41912.1 imbalance=1.195 nsplit=0       \n",
      "Clustering 10000 points in 17D to 41 clusters, redo 1 times, 20 iterations\n",
      "  Preprocessing in 0.00 s\n",
      "  Iteration 19 (0.27 s, search 0.24 s): objective=41293.8 imbalance=1.214 nsplit=0       \n",
      "Clustering 10000 points in 17D to 42 clusters, redo 1 times, 20 iterations\n",
      "  Preprocessing in 0.00 s\n",
      "  Iteration 19 (0.25 s, search 0.19 s): objective=41028.7 imbalance=1.231 nsplit=0       \n",
      "Clustering 10000 points in 17D to 43 clusters, redo 1 times, 20 iterations\n",
      "  Preprocessing in 0.00 s\n",
      "  Iteration 19 (0.67 s, search 0.33 s): objective=41006.6 imbalance=1.214 nsplit=0       \n",
      "Clustering 10000 points in 17D to 44 clusters, redo 1 times, 20 iterations\n",
      "  Preprocessing in 0.00 s\n",
      "  Iteration 19 (0.39 s, search 0.29 s): objective=40876.4 imbalance=1.234 nsplit=0       \n",
      "Clustering 10000 points in 17D to 45 clusters, redo 1 times, 20 iterations\n",
      "  Preprocessing in 0.00 s\n",
      "  Iteration 19 (0.26 s, search 0.23 s): objective=40705.9 imbalance=1.235 nsplit=0       \n",
      "Clustering 10000 points in 17D to 46 clusters, redo 1 times, 20 iterations\n",
      "  Preprocessing in 0.00 s\n",
      "  Iteration 19 (0.26 s, search 0.24 s): objective=40668.8 imbalance=1.201 nsplit=0       \n",
      "Clustering 10000 points in 17D to 47 clusters, redo 1 times, 20 iterations\n",
      "  Preprocessing in 0.00 s\n",
      "  Iteration 19 (0.55 s, search 0.32 s): objective=40528 imbalance=1.208 nsplit=0         \n",
      "Clustering 10000 points in 17D to 48 clusters, redo 1 times, 20 iterations\n",
      "  Preprocessing in 0.00 s\n",
      "  Iteration 19 (0.33 s, search 0.21 s): objective=40422.5 imbalance=1.222 nsplit=0       \n",
      "Clustering 10000 points in 17D to 49 clusters, redo 1 times, 20 iterations\n",
      "  Preprocessing in 0.00 s\n",
      "  Iteration 19 (0.96 s, search 0.28 s): objective=40100 imbalance=1.217 nsplit=0         \n",
      "Clustering 10000 points in 17D to 50 clusters, redo 1 times, 20 iterations\n",
      "  Preprocessing in 0.00 s\n",
      "  Iteration 19 (0.29 s, search 0.24 s): objective=39881.8 imbalance=1.194 nsplit=0       \n",
      "Clustering 10000 points in 17D to 51 clusters, redo 1 times, 20 iterations\n",
      "  Preprocessing in 0.00 s\n",
      "  Iteration 19 (0.26 s, search 0.23 s): objective=39806.8 imbalance=1.207 nsplit=0       \n",
      "Clustering 10000 points in 17D to 52 clusters, redo 1 times, 20 iterations\n",
      "  Preprocessing in 0.00 s\n",
      "  Iteration 19 (0.25 s, search 0.23 s): objective=39513 imbalance=1.226 nsplit=0         \n",
      "Clustering 10000 points in 17D to 53 clusters, redo 1 times, 20 iterations\n",
      "  Preprocessing in 0.00 s\n",
      "  Iteration 19 (0.18 s, search 0.17 s): objective=39620.9 imbalance=1.223 nsplit=0       \n",
      "Clustering 10000 points in 17D to 54 clusters, redo 1 times, 20 iterations\n",
      "  Preprocessing in 0.00 s\n",
      "  Iteration 19 (0.29 s, search 0.23 s): objective=39429.4 imbalance=1.206 nsplit=0       \n",
      "Clustering 10000 points in 17D to 55 clusters, redo 1 times, 20 iterations\n",
      "  Preprocessing in 0.00 s\n",
      "  Iteration 19 (0.25 s, search 0.23 s): objective=39245.8 imbalance=1.201 nsplit=0       \n",
      "Clustering 10000 points in 17D to 56 clusters, redo 1 times, 20 iterations\n",
      "  Preprocessing in 0.00 s\n",
      "  Iteration 19 (0.22 s, search 0.18 s): objective=39082.6 imbalance=1.195 nsplit=0       \n",
      "Clustering 10000 points in 17D to 57 clusters, redo 1 times, 20 iterations\n",
      "  Preprocessing in 0.00 s\n",
      "  Iteration 19 (0.31 s, search 0.22 s): objective=39128.4 imbalance=1.198 nsplit=0       \n",
      "Clustering 10000 points in 17D to 58 clusters, redo 1 times, 20 iterations\n",
      "  Preprocessing in 0.00 s\n",
      "  Iteration 19 (0.27 s, search 0.22 s): objective=38936.9 imbalance=1.189 nsplit=0       \n",
      "Clustering 10000 points in 17D to 59 clusters, redo 1 times, 20 iterations\n",
      "  Preprocessing in 0.00 s\n",
      "  Iteration 19 (0.28 s, search 0.22 s): objective=38847.6 imbalance=1.176 nsplit=0       \n",
      "Clustering 10000 points in 17D to 60 clusters, redo 1 times, 20 iterations\n",
      "  Preprocessing in 0.00 s\n",
      "  Iteration 19 (0.25 s, search 0.22 s): objective=38551.9 imbalance=1.197 nsplit=0       \n",
      "Clustering 10000 points in 17D to 61 clusters, redo 1 times, 20 iterations\n",
      "  Preprocessing in 0.00 s\n",
      "  Iteration 19 (0.25 s, search 0.23 s): objective=38348.3 imbalance=1.206 nsplit=0       \n",
      "Clustering 10000 points in 17D to 62 clusters, redo 1 times, 20 iterations\n",
      "  Preprocessing in 0.00 s\n",
      "  Iteration 19 (1.02 s, search 0.19 s): objective=38227.7 imbalance=1.179 nsplit=0       \n",
      "Clustering 10000 points in 17D to 63 clusters, redo 1 times, 20 iterations\n",
      "  Preprocessing in 0.00 s\n",
      "  Iteration 19 (0.78 s, search 0.25 s): objective=38131 imbalance=1.176 nsplit=0         \n",
      "Clustering 10000 points in 17D to 64 clusters, redo 1 times, 20 iterations\n",
      "  Preprocessing in 0.00 s\n",
      "  Iteration 19 (1.04 s, search 0.23 s): objective=38122.9 imbalance=1.191 nsplit=0       \n",
      "Clustering 10000 points in 17D to 65 clusters, redo 1 times, 20 iterations\n",
      "  Preprocessing in 0.00 s\n",
      "  Iteration 19 (0.77 s, search 0.25 s): objective=37745.3 imbalance=1.201 nsplit=0       \n",
      "Clustering 10000 points in 17D to 66 clusters, redo 1 times, 20 iterations\n",
      "  Preprocessing in 0.00 s\n",
      "  Iteration 19 (0.86 s, search 0.26 s): objective=37417.1 imbalance=1.218 nsplit=0       \n",
      "Clustering 10000 points in 17D to 67 clusters, redo 1 times, 20 iterations\n",
      "  Preprocessing in 0.00 s\n",
      "  Iteration 19 (0.28 s, search 0.23 s): objective=37395.6 imbalance=1.214 nsplit=0       \n",
      "Clustering 10000 points in 17D to 68 clusters, redo 1 times, 20 iterations\n",
      "  Preprocessing in 0.00 s\n",
      "  Iteration 19 (0.39 s, search 0.23 s): objective=37077.9 imbalance=1.219 nsplit=0       \n",
      "Clustering 10000 points in 17D to 69 clusters, redo 1 times, 20 iterations\n",
      "  Preprocessing in 0.00 s\n",
      "  Iteration 19 (0.27 s, search 0.23 s): objective=36929.6 imbalance=1.213 nsplit=0       \n",
      "Clustering 10000 points in 17D to 70 clusters, redo 1 times, 20 iterations\n",
      "  Preprocessing in 0.00 s\n",
      "  Iteration 19 (0.20 s, search 0.18 s): objective=37020.8 imbalance=1.211 nsplit=0       \n",
      "Clustering 10000 points in 17D to 71 clusters, redo 1 times, 20 iterations\n",
      "  Preprocessing in 0.00 s\n",
      "  Iteration 19 (0.28 s, search 0.23 s): objective=36906.1 imbalance=1.193 nsplit=0       \n",
      "Clustering 10000 points in 17D to 72 clusters, redo 1 times, 20 iterations\n",
      "  Preprocessing in 0.00 s\n",
      "  Iteration 19 (0.21 s, search 0.19 s): objective=36855.1 imbalance=1.193 nsplit=0       \n",
      "Clustering 10000 points in 17D to 73 clusters, redo 1 times, 20 iterations\n",
      "  Preprocessing in 0.00 s\n",
      "  Iteration 19 (0.24 s, search 0.22 s): objective=36749.7 imbalance=1.186 nsplit=0       \n",
      "Clustering 10000 points in 17D to 74 clusters, redo 1 times, 20 iterations\n",
      "  Preprocessing in 0.00 s\n",
      "  Iteration 19 (0.25 s, search 0.22 s): objective=36628.5 imbalance=1.188 nsplit=0       \n",
      "Clustering 10000 points in 17D to 75 clusters, redo 1 times, 20 iterations\n",
      "  Preprocessing in 0.00 s\n",
      "  Iteration 19 (0.28 s, search 0.22 s): objective=36268.3 imbalance=1.192 nsplit=0       \n",
      "Clustering 10000 points in 17D to 76 clusters, redo 1 times, 20 iterations\n",
      "  Preprocessing in 0.00 s\n",
      "  Iteration 19 (0.29 s, search 0.25 s): objective=36153.3 imbalance=1.191 nsplit=0       \n",
      "Clustering 10000 points in 17D to 77 clusters, redo 1 times, 20 iterations\n",
      "  Preprocessing in 0.00 s\n",
      "  Iteration 19 (0.27 s, search 0.23 s): objective=36029.7 imbalance=1.192 nsplit=0       \n",
      "Clustering 10000 points in 17D to 78 clusters, redo 1 times, 20 iterations\n",
      "  Preprocessing in 0.00 s\n",
      "  Iteration 19 (0.39 s, search 0.25 s): objective=35953 imbalance=1.183 nsplit=0         \n",
      "Clustering 10000 points in 17D to 79 clusters, redo 1 times, 20 iterations\n",
      "  Preprocessing in 0.00 s\n",
      "  Iteration 19 (0.30 s, search 0.25 s): objective=35899.7 imbalance=1.184 nsplit=0       \n",
      "Clustering 10000 points in 17D to 80 clusters, redo 1 times, 20 iterations\n",
      "  Preprocessing in 0.00 s\n",
      "  Iteration 19 (0.25 s, search 0.16 s): objective=35784.7 imbalance=1.192 nsplit=0       \n",
      "Clustering 10000 points in 17D to 81 clusters, redo 1 times, 20 iterations\n",
      "  Preprocessing in 0.00 s\n",
      "  Iteration 19 (0.31 s, search 0.25 s): objective=35713.1 imbalance=1.198 nsplit=0       \n",
      "Clustering 10000 points in 17D to 82 clusters, redo 1 times, 20 iterations\n",
      "  Preprocessing in 0.00 s\n",
      "  Iteration 19 (0.28 s, search 0.25 s): objective=35648.2 imbalance=1.200 nsplit=0       \n",
      "Clustering 10000 points in 17D to 83 clusters, redo 1 times, 20 iterations\n",
      "  Preprocessing in 0.00 s\n",
      "  Iteration 19 (0.30 s, search 0.18 s): objective=35569.5 imbalance=1.195 nsplit=0       \n",
      "Clustering 10000 points in 17D to 84 clusters, redo 1 times, 20 iterations\n",
      "  Preprocessing in 0.00 s\n",
      "  Iteration 19 (0.26 s, search 0.24 s): objective=35450.6 imbalance=1.198 nsplit=0       \n",
      "Clustering 10000 points in 17D to 85 clusters, redo 1 times, 20 iterations\n",
      "  Preprocessing in 0.00 s\n",
      "  Iteration 19 (0.32 s, search 0.26 s): objective=35397.4 imbalance=1.212 nsplit=0       \n",
      "Clustering 10000 points in 17D to 86 clusters, redo 1 times, 20 iterations\n",
      "  Preprocessing in 0.00 s\n",
      "  Iteration 19 (0.30 s, search 0.26 s): objective=35257.9 imbalance=1.207 nsplit=0       \n",
      "Clustering 10000 points in 17D to 87 clusters, redo 1 times, 20 iterations\n",
      "  Preprocessing in 0.00 s\n",
      "  Iteration 19 (0.30 s, search 0.23 s): objective=35106.4 imbalance=1.222 nsplit=0       \n",
      "Clustering 10000 points in 17D to 88 clusters, redo 1 times, 20 iterations\n",
      "  Preprocessing in 0.00 s\n",
      "  Iteration 19 (0.26 s, search 0.22 s): objective=35030.8 imbalance=1.217 nsplit=0       \n",
      "Clustering 10000 points in 17D to 89 clusters, redo 1 times, 20 iterations\n",
      "  Preprocessing in 0.00 s\n",
      "  Iteration 19 (0.28 s, search 0.23 s): objective=34801.8 imbalance=1.217 nsplit=0       \n",
      "Clustering 10000 points in 17D to 90 clusters, redo 1 times, 20 iterations\n",
      "  Preprocessing in 0.00 s\n",
      "  Iteration 19 (0.25 s, search 0.22 s): objective=34767 imbalance=1.202 nsplit=0         \n",
      "Clustering 10000 points in 17D to 91 clusters, redo 1 times, 20 iterations\n",
      "  Preprocessing in 0.00 s\n",
      "  Iteration 19 (0.30 s, search 0.18 s): objective=34619.8 imbalance=1.207 nsplit=0       \n",
      "Clustering 10000 points in 17D to 92 clusters, redo 1 times, 20 iterations\n",
      "  Preprocessing in 0.00 s\n",
      "  Iteration 19 (0.33 s, search 0.25 s): objective=34524.7 imbalance=1.197 nsplit=0       \n",
      "Clustering 10000 points in 17D to 93 clusters, redo 1 times, 20 iterations\n",
      "  Preprocessing in 0.00 s\n",
      "  Iteration 19 (0.27 s, search 0.25 s): objective=34451.8 imbalance=1.190 nsplit=0       \n",
      "Clustering 10000 points in 17D to 94 clusters, redo 1 times, 20 iterations\n",
      "  Preprocessing in 0.00 s\n",
      "  Iteration 19 (0.20 s, search 0.17 s): objective=34362.2 imbalance=1.188 nsplit=0       \n",
      "Clustering 10000 points in 17D to 95 clusters, redo 1 times, 20 iterations\n",
      "  Preprocessing in 0.00 s\n",
      "  Iteration 19 (0.38 s, search 0.25 s): objective=34303.8 imbalance=1.188 nsplit=0       \n",
      "Clustering 10000 points in 17D to 96 clusters, redo 1 times, 20 iterations\n",
      "  Preprocessing in 0.00 s\n",
      "  Iteration 19 (0.31 s, search 0.25 s): objective=34175.7 imbalance=1.202 nsplit=0       \n",
      "Clustering 10000 points in 17D to 97 clusters, redo 1 times, 20 iterations\n",
      "  Preprocessing in 0.00 s\n",
      "  Iteration 19 (0.25 s, search 0.22 s): objective=34163.2 imbalance=1.192 nsplit=0       \n",
      "Clustering 10000 points in 17D to 98 clusters, redo 1 times, 20 iterations\n",
      "  Preprocessing in 0.00 s\n",
      "  Iteration 19 (0.37 s, search 0.25 s): objective=34123.8 imbalance=1.198 nsplit=0       \n",
      "Clustering 10000 points in 17D to 99 clusters, redo 1 times, 20 iterations\n",
      "  Preprocessing in 0.00 s\n",
      "  Iteration 19 (0.37 s, search 0.25 s): objective=34065.1 imbalance=1.204 nsplit=0       \n"
     ]
    }
   ],
   "source": [
    "sv_list = []\n",
    "for k in range(2, 100):    \n",
    "    k = k #num_clusters has been defined somewhere outside\n",
    "    niter = 20 #number of iterations\n",
    "    verbose = True #verbosity flag\n",
    "    gpu = True #use GPU for processing\n",
    "\n",
    "    # data to be clustered\n",
    "    data = data_pca.astype('float32')\n",
    "\n",
    "    # Initializing Kmeans object by calling faiss Kmeans function\n",
    "    kmeans = faiss.Kmeans(d=data.shape[1], k=k, niter=niter, verbose=verbose, gpu=gpu)\n",
    "\n",
    "    # Training on the input data\n",
    "    kmeans.train(data)\n",
    "    labels = kmeans.index.search(data, 1)[1].flatten()\n",
    "\n",
    "    score = silhouette_score(data, labels)\n",
    "    sv_list.append(score)\n",
    "    #print(f\"Silhouette score: {score}\")"
   ]
  },
  {
   "cell_type": "code",
   "execution_count": 61,
   "id": "14a67c59",
   "metadata": {},
   "outputs": [
    {
     "data": {
      "text/plain": [
       "0"
      ]
     },
     "execution_count": 61,
     "metadata": {},
     "output_type": "execute_result"
    },
    {
     "data": {
      "image/png": "[encoded data removed]",
      "text/plain": [
       "<Figure size 640x480 with 1 Axes>"
      ]
     },
     "metadata": {},
     "output_type": "display_data"
    }
   ],
   "source": [
    "plt.plot(range(2, 100), sv_list)\n",
    "plt.xlim(0,20)\n",
    "sv_list.index(max(sv_list))"
   ]
  },
  {
   "cell_type": "code",
   "execution_count": 78,
   "id": "2ee94e51",
   "metadata": {},
   "outputs": [
    {
     "data": {
      "text/plain": [
       "<faiss.Kmeans at 0x7f572924c8e0>"
      ]
     },
     "execution_count": 78,
     "metadata": {},
     "output_type": "execute_result"
    }
   ],
   "source": [
    "from sklearn.metrics import silhouette_score\n",
    "\n",
    "# Assume data and labels are defined\n",
    "# data: n x d array where n is the number of data points and d is the dimensionality\n",
    "# labels: n-dimensional vector containing label assignments for each point\n",
    "\n",
    "k = 5    # Number of clusters to use in k-means\n",
    "\n",
    "# Initialize and train k-means model\n",
    "index = faiss.IndexFlatL2(data_pca.shape[1])\n",
    "kmeans = faiss.Kmeans(data_pca.shape[1], k)\n",
    "kmeans.niter = 20\n",
    "#kmeans.train(data_scaled, index)\n",
    "\n",
    "# Get cluster centers and assign labels to data points\n",
    "#labels = index.search(kmeans.centroids, k)\n",
    "#labels = labels[1].reshape(-1)\n",
    "\n",
    "# Calculate silhouette score\n",
    "#score = silhouette_score(data, labels)\n",
    "\n",
    "#print(f\"Silhouette score: {score}\")\n",
    "kmeans\n"
   ]
  },
  {
   "cell_type": "code",
   "execution_count": 36,
   "id": "4d691025",
   "metadata": {},
   "outputs": [
    {
     "name": "stdout",
     "output_type": "stream",
     "text": [
      "0.0063593034\n"
     ]
    }
   ],
   "source": [
    "# Load dataset\n",
    "d = 128\n",
    "n = 1000\n",
    "xb = faiss.randn((n, d)).astype('float32')\n",
    "\n",
    "# Set number of clusters\n",
    "k = 4\n",
    "\n",
    "# Initialize k-means\n",
    "index = faiss.IndexFlatL2(d)\n",
    "kmeans = faiss.Kmeans(d, k, verbose=False, gpu=False)\n",
    "\n",
    "# Train k-means\n",
    "kmeans.train(xb)\n",
    "D, I = index.search(xb, 1)\n",
    "\n",
    "# Compute silhouette score\n",
    "\n",
    "\n",
    "labels = kmeans.assign(xb)\n",
    "score = silhouette_score(xb, labels[1])\n",
    "print(score)\n"
   ]
  },
  {
   "cell_type": "code",
   "execution_count": null,
   "id": "738c7713",
   "metadata": {},
   "outputs": [
    {
     "name": "stdout",
     "output_type": "stream",
     "text": [
      "Sampling a subset of 1024 / 1204025 for training\n",
      "Clustering 1024 points in 17D to 4 clusters, redo 1 times, 20 iterations\n",
      "  Preprocessing in 0.07 s\n",
      "  Iteration 19 (1.09 s, search 0.07 s): objective=16161 imbalance=1.570 nsplit=0         \n"
     ]
    },
    {
     "data": {
      "text/plain": [
       "16160.982421875"
      ]
     },
     "metadata": {},
     "output_type": "display_data"
    }
   ],
   "source": [
    "k = 4 #num_clusters has been defined somewhere outside\n",
    "niter = 20 #number of iterations\n",
    "verbose = True #verbosity flag\n",
    "gpu = True #use GPU for processing\n",
    "\n",
    "# data to be clustered\n",
    "data = data_scaled.astype('float32')\n",
    "data_scaled = (data - np.mean(data, axis=0)) / np.std(data, axis=0)\n",
    "\n",
    "# Initializing Kmeans object by calling faiss Kmeans function\n",
    "kmeans = faiss.Kmeans(d=data_scaled.shape[1], k=k, niter=niter, verbose=verbose, gpu=gpu)\n",
    "\n",
    "# Training on the input data\n",
    "kmeans.train(data_scaled)\n"
   ]
  },
  {
   "cell_type": "code",
   "execution_count": null,
   "id": "4f2d7b21",
   "metadata": {},
   "outputs": [
    {
     "name": "stdout",
     "output_type": "stream",
     "text": [
      "Sampling a subset of 1024 / 1204025 for training\n",
      "Clustering 1024 points in 17D to 4 clusters, redo 1 times, 20 iterations\n",
      "  Preprocessing in 0.07 s\n",
      "  Iteration 19 (1.09 s, search 0.07 s): objective=16161 imbalance=1.570 nsplit=0         \n"
     ]
    },
    {
     "data": {
      "text/plain": [
       "16160.982421875"
      ]
     },
     "metadata": {},
     "output_type": "display_data"
    }
   ],
   "source": [
    "k = 4 #num_clusters has been defined somewhere outside\n",
    "niter = 20 #number of iterations\n",
    "verbose = True #verbosity flag\n",
    "gpu = True #use GPU for processing\n",
    "\n",
    "# data to be clustered\n",
    "data = data_scaled.astype('float32')\n",
    "data_scaled = (data - np.mean(data, axis=0)) / np.std(data, axis=0)\n",
    "\n",
    "# Initializing Kmeans object by calling faiss Kmeans function\n",
    "kmeans = faiss.Kmeans(d=data_scaled.shape[1], k=k, niter=niter, verbose=verbose, gpu=gpu)\n",
    "\n",
    "# Training on the input data\n",
    "kmeans.train(data_scaled)\n"
   ]
  },
  {
   "cell_type": "code",
   "execution_count": null,
   "id": "0d1a855f",
   "metadata": {},
   "outputs": [
    {
     "name": "stdout",
     "output_type": "stream",
     "text": [
      "Sampling a subset of 1024 / 1204025 for training\n",
      "Clustering 1024 points in 17D to 4 clusters, redo 1 times, 20 iterations\n",
      "  Preprocessing in 0.07 s\n",
      "  Iteration 19 (1.09 s, search 0.07 s): objective=16161 imbalance=1.570 nsplit=0         \n"
     ]
    },
    {
     "data": {
      "text/plain": [
       "16160.982421875"
      ]
     },
     "metadata": {},
     "output_type": "display_data"
    }
   ],
   "source": [
    "k = 4 #num_clusters has been defined somewhere outside\n",
    "niter = 20 #number of iterations\n",
    "verbose = True #verbosity flag\n",
    "gpu = True #use GPU for processing\n",
    "\n",
    "# data to be clustered\n",
    "data = data_scaled.astype('float32')\n",
    "data_scaled = (data - np.mean(data, axis=0)) / np.std(data, axis=0)\n",
    "\n",
    "# Initializing Kmeans object by calling faiss Kmeans function\n",
    "kmeans = faiss.Kmeans(d=data_scaled.shape[1], k=k, niter=niter, verbose=verbose, gpu=gpu)\n",
    "\n",
    "# Training on the input data\n",
    "kmeans.train(data_scaled)\n"
   ]
  },
  {
   "cell_type": "code",
   "execution_count": null,
   "id": "da4878b9",
   "metadata": {},
   "outputs": [
    {
     "name": "stdout",
     "output_type": "stream",
     "text": [
      "Sampling a subset of 1024 / 1204025 for training\n",
      "Clustering 1024 points in 17D to 4 clusters, redo 1 times, 20 iterations\n",
      "  Preprocessing in 0.07 s\n",
      "  Iteration 19 (1.09 s, search 0.07 s): objective=16161 imbalance=1.570 nsplit=0         \n"
     ]
    },
    {
     "data": {
      "text/plain": [
       "16160.982421875"
      ]
     },
     "metadata": {},
     "output_type": "display_data"
    }
   ],
   "source": [
    "k = 4 #num_clusters has been defined somewhere outside\n",
    "niter = 20 #number of iterations\n",
    "verbose = True #verbosity flag\n",
    "gpu = True #use GPU for processing\n",
    "\n",
    "# data to be clustered\n",
    "data = data_scaled.astype('float32')\n",
    "data_scaled = (data - np.mean(data, axis=0)) / np.std(data, axis=0)\n",
    "\n",
    "# Initializing Kmeans object by calling faiss Kmeans function\n",
    "kmeans = faiss.Kmeans(d=data_scaled.shape[1], k=k, niter=niter, verbose=verbose, gpu=gpu)\n",
    "\n",
    "# Training on the input data\n",
    "kmeans.train(data_scaled)\n"
   ]
  },
  {
   "cell_type": "code",
   "execution_count": null,
   "id": "6ae88631",
   "metadata": {},
   "outputs": [
    {
     "name": "stdout",
     "output_type": "stream",
     "text": [
      "Sampling a subset of 1024 / 1204025 for training\n",
      "Clustering 1024 points in 17D to 4 clusters, redo 1 times, 20 iterations\n",
      "  Preprocessing in 0.07 s\n",
      "  Iteration 19 (1.09 s, search 0.07 s): objective=16161 imbalance=1.570 nsplit=0         \n"
     ]
    },
    {
     "data": {
      "text/plain": [
       "16160.982421875"
      ]
     },
     "metadata": {},
     "output_type": "display_data"
    }
   ],
   "source": [
    "k = 4 #num_clusters has been defined somewhere outside\n",
    "niter = 20 #number of iterations\n",
    "verbose = True #verbosity flag\n",
    "gpu = True #use GPU for processing\n",
    "\n",
    "# data to be clustered\n",
    "data = data_scaled.astype('float32')\n",
    "data_scaled = (data - np.mean(data, axis=0)) / np.std(data, axis=0)\n",
    "\n",
    "# Initializing Kmeans object by calling faiss Kmeans function\n",
    "kmeans = faiss.Kmeans(d=data_scaled.shape[1], k=k, niter=niter, verbose=verbose, gpu=gpu)\n",
    "\n",
    "# Training on the input data\n",
    "kmeans.train(data_scaled)\n"
   ]
  },
  {
   "cell_type": "code",
   "execution_count": null,
   "id": "24edd1fd",
   "metadata": {},
   "outputs": [
    {
     "name": "stdout",
     "output_type": "stream",
     "text": [
      "Sampling a subset of 1024 / 1204025 for training\n",
      "Clustering 1024 points in 17D to 4 clusters, redo 1 times, 20 iterations\n",
      "  Preprocessing in 0.07 s\n",
      "  Iteration 19 (1.09 s, search 0.07 s): objective=16161 imbalance=1.570 nsplit=0         \n"
     ]
    },
    {
     "data": {
      "text/plain": [
       "16160.982421875"
      ]
     },
     "metadata": {},
     "output_type": "display_data"
    }
   ],
   "source": [
    "k = 4 #num_clusters has been defined somewhere outside\n",
    "niter = 20 #number of iterations\n",
    "verbose = True #verbosity flag\n",
    "gpu = True #use GPU for processing\n",
    "\n",
    "# data to be clustered\n",
    "data = data_scaled.astype('float32')\n",
    "data_scaled = (data - np.mean(data, axis=0)) / np.std(data, axis=0)\n",
    "\n",
    "# Initializing Kmeans object by calling faiss Kmeans function\n",
    "kmeans = faiss.Kmeans(d=data_scaled.shape[1], k=k, niter=niter, verbose=verbose, gpu=gpu)\n",
    "\n",
    "# Training on the input data\n",
    "kmeans.train(data_scaled)\n"
   ]
  },
  {
   "cell_type": "code",
   "execution_count": null,
   "id": "43f2dc37",
   "metadata": {},
   "outputs": [
    {
     "name": "stdout",
     "output_type": "stream",
     "text": [
      "Sampling a subset of 1024 / 1204025 for training\n",
      "Clustering 1024 points in 17D to 4 clusters, redo 1 times, 20 iterations\n",
      "  Preprocessing in 0.07 s\n",
      "  Iteration 19 (1.09 s, search 0.07 s): objective=16161 imbalance=1.570 nsplit=0         \n"
     ]
    },
    {
     "data": {
      "text/plain": [
       "16160.982421875"
      ]
     },
     "metadata": {},
     "output_type": "display_data"
    }
   ],
   "source": [
    "k = 4 #num_clusters has been defined somewhere outside\n",
    "niter = 20 #number of iterations\n",
    "verbose = True #verbosity flag\n",
    "gpu = True #use GPU for processing\n",
    "\n",
    "# data to be clustered\n",
    "data = data_scaled.astype('float32')\n",
    "data_scaled = (data - np.mean(data, axis=0)) / np.std(data, axis=0)\n",
    "\n",
    "# Initializing Kmeans object by calling faiss Kmeans function\n",
    "kmeans = faiss.Kmeans(d=data_scaled.shape[1], k=k, niter=niter, verbose=verbose, gpu=gpu)\n",
    "\n",
    "# Training on the input data\n",
    "kmeans.train(data_scaled)\n"
   ]
  },
  {
   "cell_type": "code",
   "execution_count": null,
   "id": "3e691153",
   "metadata": {},
   "outputs": [
    {
     "name": "stdout",
     "output_type": "stream",
     "text": [
      "Sampling a subset of 1024 / 1204025 for training\n",
      "Clustering 1024 points in 17D to 4 clusters, redo 1 times, 20 iterations\n",
      "  Preprocessing in 0.07 s\n",
      "  Iteration 19 (1.09 s, search 0.07 s): objective=16161 imbalance=1.570 nsplit=0         \n"
     ]
    },
    {
     "data": {
      "text/plain": [
       "16160.982421875"
      ]
     },
     "metadata": {},
     "output_type": "display_data"
    }
   ],
   "source": [
    "k = 4 #num_clusters has been defined somewhere outside\n",
    "niter = 20 #number of iterations\n",
    "verbose = True #verbosity flag\n",
    "gpu = True #use GPU for processing\n",
    "\n",
    "# data to be clustered\n",
    "data = data_scaled.astype('float32')\n",
    "data_scaled = (data - np.mean(data, axis=0)) / np.std(data, axis=0)\n",
    "\n",
    "# Initializing Kmeans object by calling faiss Kmeans function\n",
    "kmeans = faiss.Kmeans(d=data_scaled.shape[1], k=k, niter=niter, verbose=verbose, gpu=gpu)\n",
    "\n",
    "# Training on the input data\n",
    "kmeans.train(data_scaled)\n"
   ]
  },
  {
   "cell_type": "code",
   "execution_count": 28,
   "id": "3aa75a94",
   "metadata": {},
   "outputs": [
    {
     "name": "stdout",
     "output_type": "stream",
     "text": [
      "Running KMeans with 6 clusters\n"
     ]
    },
    {
     "ename": "TypeError",
     "evalue": "Wrong number or type of arguments for overloaded function 'new_Clustering'.\n  Possible C/C++ prototypes are:\n    faiss::Clustering::Clustering(int,int)\n    faiss::Clustering::Clustering(int,int,faiss::ClusteringParameters const &)\n",
     "output_type": "error",
     "traceback": [
      "\u001b[0;31m---------------------------------------------------------------------------\u001b[0m",
      "\u001b[0;31mTypeError\u001b[0m                                 Traceback (most recent call last)",
      "Cell \u001b[0;32mIn[28], line 10\u001b[0m\n\u001b[1;32m      8\u001b[0m \u001b[39mprint\u001b[39m(\u001b[39mf\u001b[39m\u001b[39m\"\u001b[39m\u001b[39mRunning KMeans with \u001b[39m\u001b[39m{\u001b[39;00mnum_clusters\u001b[39m}\u001b[39;00m\u001b[39m clusters\u001b[39m\u001b[39m\"\u001b[39m)\n\u001b[1;32m      9\u001b[0m kmeans \u001b[39m=\u001b[39m faiss\u001b[39m.\u001b[39mKmeans(data_scaled\u001b[39m.\u001b[39mshape[\u001b[39m1\u001b[39m], k\u001b[39m=\u001b[39mnum_clusters, niter\u001b[39m=\u001b[39m\u001b[39m20\u001b[39m, verbose\u001b[39m=\u001b[39m\u001b[39mTrue\u001b[39;00m, gpu\u001b[39m=\u001b[39m\u001b[39mTrue\u001b[39;00m)\n\u001b[0;32m---> 10\u001b[0m kmeans\u001b[39m.\u001b[39;49mtrain(data_scaled)\n\u001b[1;32m     11\u001b[0m cluster_labels \u001b[39m=\u001b[39m kmeans\u001b[39m.\u001b[39mlabels_\n\u001b[1;32m     14\u001b[0m \u001b[39m# silhouette score\u001b[39;00m\n",
      "File \u001b[0;32m~/.pyenv/versions/3.10.6/envs/terrible_with_concerts/lib/python3.10/site-packages/faiss/__init__.py:1549\u001b[0m, in \u001b[0;36mKmeans.train\u001b[0;34m(self, x, weights, init_centroids)\u001b[0m\n\u001b[1;32m   1545\u001b[0m \u001b[39massert\u001b[39;00m d \u001b[39m==\u001b[39m \u001b[39mself\u001b[39m\u001b[39m.\u001b[39md\n\u001b[1;32m   1547\u001b[0m \u001b[39mif\u001b[39;00m \u001b[39mself\u001b[39m\u001b[39m.\u001b[39mcp\u001b[39m.\u001b[39m\u001b[39m__class__\u001b[39m \u001b[39m==\u001b[39m ClusteringParameters:\n\u001b[1;32m   1548\u001b[0m     \u001b[39m# regular clustering\u001b[39;00m\n\u001b[0;32m-> 1549\u001b[0m     clus \u001b[39m=\u001b[39m Clustering(d, \u001b[39mself\u001b[39;49m\u001b[39m.\u001b[39;49mk, \u001b[39mself\u001b[39;49m\u001b[39m.\u001b[39;49mcp)\n\u001b[1;32m   1550\u001b[0m     \u001b[39mif\u001b[39;00m init_centroids \u001b[39mis\u001b[39;00m \u001b[39mnot\u001b[39;00m \u001b[39mNone\u001b[39;00m:\n\u001b[1;32m   1551\u001b[0m         nc, d2 \u001b[39m=\u001b[39m init_centroids\u001b[39m.\u001b[39mshape\n",
      "File \u001b[0;32m~/.pyenv/versions/3.10.6/envs/terrible_with_concerts/lib/python3.10/site-packages/faiss/swigfaiss.py:2315\u001b[0m, in \u001b[0;36mClustering.__init__\u001b[0;34m(self, *args)\u001b[0m\n\u001b[1;32m   2314\u001b[0m \u001b[39mdef\u001b[39;00m \u001b[39m__init__\u001b[39m(\u001b[39mself\u001b[39m, \u001b[39m*\u001b[39margs):\n\u001b[0;32m-> 2315\u001b[0m     _swigfaiss\u001b[39m.\u001b[39mClustering_swiginit(\u001b[39mself\u001b[39m, _swigfaiss\u001b[39m.\u001b[39;49mnew_Clustering(\u001b[39m*\u001b[39;49margs))\n",
      "\u001b[0;31mTypeError\u001b[0m: Wrong number or type of arguments for overloaded function 'new_Clustering'.\n  Possible C/C++ prototypes are:\n    faiss::Clustering::Clustering(int,int)\n    faiss::Clustering::Clustering(int,int,faiss::ClusteringParameters const &)\n"
     ]
    }
   ],
   "source": [
    "from sklearn.metrics import silhouette_score\n",
    "\n",
    "range_n_clusters = np.arange(6,10+1,1)\n",
    "silhouette_avg = []\n",
    "for num_clusters in range_n_clusters:\n",
    " \n",
    " # initialise kmeans\n",
    " print(f\"Running KMeans with {num_clusters} clusters\")\n",
    " k = 6 #num_clusters has been defined somewhere outside\n",
    "niter = 20 #number of iterations\n",
    "verbose = True #verbosity flag\n",
    "gpu = True #use GPU for processing\n",
    "\n",
    "# data to be clustered\n",
    "data = data_pca.astype('float32')\n",
    "data_scaled = (data - np.mean(data, axis=0)) / np.std(data, axis=0)\n",
    "\n",
    "# Initializing Kmeans object by calling faiss Kmeans function\n",
    "kmeans = faiss.Kmeans(d=data_scaled.shape[1], k=k, niter=niter, verbose=verbose, gpu=gpu)\n",
    "\n",
    "# Training on the input data\n",
    "kmeans.train(data_scaled)\n",
    " kmeans = faiss.Kmeans(data_scaled.shape[1], k=num_clusters, niter=20, verbose=True, gpu=True)\n",
    " kmeans.train(data_scaled)\n",
    " cluster_labels = kmeans.labels_\n",
    " \n",
    " \n",
    " # silhouette score\n",
    " silhouette_avg.append(silhouette_score(data_pca, cluster_labels))\n",
    "plt.plot(range_n_clusters,silhouette_avg,'bx-')\n",
    "plt.xlabel('Values of K') \n",
    "plt.ylabel('Silhouette score') \n",
    "plt.title('Silhouette analysis For Optimal k')\n",
    "plt.show()"
   ]
  },
  {
   "cell_type": "code",
   "execution_count": 19,
   "id": "1527766b",
   "metadata": {},
   "outputs": [],
   "source": [
    "preproc = make_pipeline(RobustScaler(), PCA(n_components=7), KMeans(n_clusters=8))"
   ]
  },
  {
   "cell_type": "code",
   "execution_count": 20,
   "id": "898f1318",
   "metadata": {},
   "outputs": [
    {
     "name": "stderr",
     "output_type": "stream",
     "text": [
      "/home/afonsofroes/.pyenv/versions/3.10.6/envs/terrible_with_concerts/lib/python3.10/site-packages/sklearn/cluster/_kmeans.py:870: FutureWarning: The default value of `n_init` will change from 10 to 'auto' in 1.4. Set the value of `n_init` explicitly to suppress the warning\n",
      "  warnings.warn(\n"
     ]
    },
    {
     "data": {
      "text/html": [
       "<style>#sk-container-id-3 {color: black;background-color: white;}#sk-container-id-3 pre{padding: 0;}#sk-container-id-3 div.sk-toggleable {background-color: white;}#sk-container-id-3 label.sk-toggleable__label {cursor: pointer;display: block;width: 100%;margin-bottom: 0;padding: 0.3em;box-sizing: border-box;text-align: center;}#sk-container-id-3 label.sk-toggleable__label-arrow:before {content: \"▸\";float: left;margin-right: 0.25em;color: #696969;}#sk-container-id-3 label.sk-toggleable__label-arrow:hover:before {color: black;}#sk-container-id-3 div.sk-estimator:hover label.sk-toggleable__label-arrow:before {color: black;}#sk-container-id-3 div.sk-toggleable__content {max-height: 0;max-width: 0;overflow: hidden;text-align: left;background-color: #f0f8ff;}#sk-container-id-3 div.sk-toggleable__content pre {margin: 0.2em;color: black;border-radius: 0.25em;background-color: #f0f8ff;}#sk-container-id-3 input.sk-toggleable__control:checked~div.sk-toggleable__content {max-height: 200px;max-width: 100%;overflow: auto;}#sk-container-id-3 input.sk-toggleable__control:checked~label.sk-toggleable__label-arrow:before {content: \"▾\";}#sk-container-id-3 div.sk-estimator input.sk-toggleable__control:checked~label.sk-toggleable__label {background-color: #d4ebff;}#sk-container-id-3 div.sk-label input.sk-toggleable__control:checked~label.sk-toggleable__label {background-color: #d4ebff;}#sk-container-id-3 input.sk-hidden--visually {border: 0;clip: rect(1px 1px 1px 1px);clip: rect(1px, 1px, 1px, 1px);height: 1px;margin: -1px;overflow: hidden;padding: 0;position: absolute;width: 1px;}#sk-container-id-3 div.sk-estimator {font-family: monospace;background-color: #f0f8ff;border: 1px dotted black;border-radius: 0.25em;box-sizing: border-box;margin-bottom: 0.5em;}#sk-container-id-3 div.sk-estimator:hover {background-color: #d4ebff;}#sk-container-id-3 div.sk-parallel-item::after {content: \"\";width: 100%;border-bottom: 1px solid gray;flex-grow: 1;}#sk-container-id-3 div.sk-label:hover label.sk-toggleable__label {background-color: #d4ebff;}#sk-container-id-3 div.sk-serial::before {content: \"\";position: absolute;border-left: 1px solid gray;box-sizing: border-box;top: 0;bottom: 0;left: 50%;z-index: 0;}#sk-container-id-3 div.sk-serial {display: flex;flex-direction: column;align-items: center;background-color: white;padding-right: 0.2em;padding-left: 0.2em;position: relative;}#sk-container-id-3 div.sk-item {position: relative;z-index: 1;}#sk-container-id-3 div.sk-parallel {display: flex;align-items: stretch;justify-content: center;background-color: white;position: relative;}#sk-container-id-3 div.sk-item::before, #sk-container-id-3 div.sk-parallel-item::before {content: \"\";position: absolute;border-left: 1px solid gray;box-sizing: border-box;top: 0;bottom: 0;left: 50%;z-index: -1;}#sk-container-id-3 div.sk-parallel-item {display: flex;flex-direction: column;z-index: 1;position: relative;background-color: white;}#sk-container-id-3 div.sk-parallel-item:first-child::after {align-self: flex-end;width: 50%;}#sk-container-id-3 div.sk-parallel-item:last-child::after {align-self: flex-start;width: 50%;}#sk-container-id-3 div.sk-parallel-item:only-child::after {width: 0;}#sk-container-id-3 div.sk-dashed-wrapped {border: 1px dashed gray;margin: 0 0.4em 0.5em 0.4em;box-sizing: border-box;padding-bottom: 0.4em;background-color: white;}#sk-container-id-3 div.sk-label label {font-family: monospace;font-weight: bold;display: inline-block;line-height: 1.2em;}#sk-container-id-3 div.sk-label-container {text-align: center;}#sk-container-id-3 div.sk-container {/* jupyter's `normalize.less` sets `[hidden] { display: none; }` but bootstrap.min.css set `[hidden] { display: none !important; }` so we also need the `!important` here to be able to override the default hidden behavior on the sphinx rendered scikit-learn.org. See: https://github.com/scikit-learn/scikit-learn/issues/21755 */display: inline-block !important;position: relative;}#sk-container-id-3 div.sk-text-repr-fallback {display: none;}</style><div id=\"sk-container-id-3\" class=\"sk-top-container\"><div class=\"sk-text-repr-fallback\"><pre>Pipeline(steps=[(&#x27;robustscaler&#x27;, RobustScaler()), (&#x27;pca&#x27;, PCA(n_components=7)),\n",
       "                (&#x27;kmeans&#x27;, KMeans())])</pre><b>In a Jupyter environment, please rerun this cell to show the HTML representation or trust the notebook. <br />On GitHub, the HTML representation is unable to render, please try loading this page with nbviewer.org.</b></div><div class=\"sk-container\" hidden><div class=\"sk-item sk-dashed-wrapped\"><div class=\"sk-label-container\"><div class=\"sk-label sk-toggleable\"><input class=\"sk-toggleable__control sk-hidden--visually\" id=\"sk-estimator-id-3\" type=\"checkbox\" ><label for=\"sk-estimator-id-3\" class=\"sk-toggleable__label sk-toggleable__label-arrow\">Pipeline</label><div class=\"sk-toggleable__content\"><pre>Pipeline(steps=[(&#x27;robustscaler&#x27;, RobustScaler()), (&#x27;pca&#x27;, PCA(n_components=7)),\n",
       "                (&#x27;kmeans&#x27;, KMeans())])</pre></div></div></div><div class=\"sk-serial\"><div class=\"sk-item\"><div class=\"sk-estimator sk-toggleable\"><input class=\"sk-toggleable__control sk-hidden--visually\" id=\"sk-estimator-id-4\" type=\"checkbox\" ><label for=\"sk-estimator-id-4\" class=\"sk-toggleable__label sk-toggleable__label-arrow\">RobustScaler</label><div class=\"sk-toggleable__content\"><pre>RobustScaler()</pre></div></div></div><div class=\"sk-item\"><div class=\"sk-estimator sk-toggleable\"><input class=\"sk-toggleable__control sk-hidden--visually\" id=\"sk-estimator-id-5\" type=\"checkbox\" ><label for=\"sk-estimator-id-5\" class=\"sk-toggleable__label sk-toggleable__label-arrow\">PCA</label><div class=\"sk-toggleable__content\"><pre>PCA(n_components=7)</pre></div></div></div><div class=\"sk-item\"><div class=\"sk-estimator sk-toggleable\"><input class=\"sk-toggleable__control sk-hidden--visually\" id=\"sk-estimator-id-6\" type=\"checkbox\" ><label for=\"sk-estimator-id-6\" class=\"sk-toggleable__label sk-toggleable__label-arrow\">KMeans</label><div class=\"sk-toggleable__content\"><pre>KMeans()</pre></div></div></div></div></div></div></div>"
      ],
      "text/plain": [
       "Pipeline(steps=[('robustscaler', RobustScaler()), ('pca', PCA(n_components=7)),\n",
       "                ('kmeans', KMeans())])"
      ]
     },
     "execution_count": 20,
     "metadata": {},
     "output_type": "execute_result"
    }
   ],
   "source": [
    "preproc.fit(data_num)"
   ]
  },
  {
   "cell_type": "code",
   "execution_count": null,
   "id": "2f88f4d4",
   "metadata": {},
   "outputs": [],
   "source": []
  }
 ],
 "metadata": {
  "kernelspec": {
   "display_name": "Python 3 (ipykernel)",
   "language": "python",
   "name": "python3"
  },
  "language_info": {
   "codemirror_mode": {
    "name": "ipython",
    "version": 3
   },
   "file_extension": ".py",
   "mimetype": "text/x-python",
   "name": "python",
   "nbconvert_exporter": "python",
   "pygments_lexer": "ipython3",
   "version": "3.10.6"
  },
  "toc": {
   "base_numbering": 1,
   "nav_menu": {},
   "number_sections": true,
   "sideBar": true,
   "skip_h1_title": false,
   "title_cell": "Table of Contents",
   "title_sidebar": "Contents",
   "toc_cell": false,
   "toc_position": {},
   "toc_section_display": true,
   "toc_window_display": false
  }
 },
 "nbformat": 4,
 "nbformat_minor": 5
}
