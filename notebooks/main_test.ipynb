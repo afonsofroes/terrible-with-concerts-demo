{
 "cells": [
  {
   "attachments": {},
   "cell_type": "markdown",
   "metadata": {},
   "source": [
    "This notebook was a check for the modules developed at the time. I wanted to make sure everything worked in sequence before building a local_main.py"
   ]
  },
  {
   "cell_type": "code",
   "execution_count": 1,
   "metadata": {},
   "outputs": [],
   "source": [
    "%load_ext autoreload\n",
    "%autoreload 2\n",
    "\n",
    "import requests\n",
    "import pandas as pd\n",
    "data = pd.read_csv('./raw_data/tracks_features.csv')"
   ]
  },
  {
   "cell_type": "code",
   "execution_count": 22,
   "metadata": {},
   "outputs": [],
   "source": [
    "api_key = 'cfc7fb20ddfa769f9def3f4dc02bc45d'\n",
    "\n",
    "def api_request(artist_name):\n",
    "    params = {'date':'upcoming'}\n",
    "    artist_name = artist_name\n",
    "\n",
    "    url = 'https://rest.bandsintown.com/artists/'\n",
    "    response = requests.get(f'{url}{artist_name}/events?app_id={api_key}', params=params)\n",
    "    # prediction1 = response.json()[1]['venue']['city']\n",
    "    # prediction1\n",
    "    prediction = response.json()\n",
    "    cities = []\n",
    "    times = []\n",
    "    countries = []\n",
    "    for i, pred in enumerate(prediction):\n",
    "        city = response.json()[i]['venue']['city']\n",
    "        country = response.json()[i]['venue']['country']\n",
    "        time = response.json()[i]['starts_at']\n",
    "        cities.append(city)\n",
    "        times.append(time)\n",
    "        countries.append(country)\n",
    "    tabledata=[cities, countries, times]\n",
    "    df = pd.DataFrame(tabledata)\n",
    "\n",
    "    df = df.transpose()\n",
    "    df.columns = ['City', 'Country', 'Date and time']\n",
    "    df['Date and time']=df['Date and time'].str.replace('T', ' ')\n",
    "\n",
    "    return df"
   ]
  },
  {
   "cell_type": "code",
   "execution_count": 3,
   "metadata": {},
   "outputs": [],
   "source": [
    "from sklearn.neighbors import NearestNeighbors\n",
    "\n",
    "def fit_nn(data_pca, n_neighbors):\n",
    "\n",
    "    song_knn = NearestNeighbors(n_neighbors=n_neighbors).fit(data_pca)\n",
    "\n",
    "    return song_knn"
   ]
  },
  {
   "cell_type": "code",
   "execution_count": 4,
   "metadata": {},
   "outputs": [],
   "source": [
    "from sklearn.decomposition import PCA\n",
    "\n",
    "def pca(preproc_num, n_components):\n",
    "    pca = PCA(n_components=n_components)\n",
    "    data_pca = pca.fit_transform(preproc_num)\n",
    "\n",
    "    return data_pca"
   ]
  },
  {
   "cell_type": "code",
   "execution_count": 5,
   "metadata": {},
   "outputs": [],
   "source": [
    "from sklearn.compose import make_column_transformer\n",
    "from sklearn.preprocessing import RobustScaler\n",
    "import pandas as pd\n",
    "\n",
    "def preprocess_data(data):\n",
    "    def preproc_pipeline():\n",
    "        features_num = [\n",
    "                \"danceability\",\n",
    "                \"energy\",\n",
    "                \"acousticness\",\n",
    "                \"instrumentalness\",\n",
    "                \"valence\",\n",
    "                \"tempo\",\n",
    "                \"duration_ms\",\n",
    "                \"loudness\",\n",
    "                \"speechiness\",\n",
    "                \"liveness\"\n",
    "                ]\n",
    "\n",
    "            #features_ohe = [\n",
    "            #    \"key\",\n",
    "            #    \"time_signature\",\n",
    "                #\"explicit\"\n",
    "            #  ]\n",
    "\n",
    "        preproc_pipe = make_column_transformer(\n",
    "            (RobustScaler(),features_num),\n",
    "            #  (OneHotEncoder(sparse_output = False),features_ohe),\n",
    "            remainder=\"passthrough\"\n",
    "            )\n",
    "\n",
    "        return preproc_pipe\n",
    "\n",
    "    pipeline = preproc_pipeline()\n",
    "\n",
    "    df_preprocessed = pipeline.fit_transform(data)\n",
    "\n",
    "    df_preprocessed = pd.DataFrame(df_preprocessed)\n",
    "\n",
    "    return df_preprocessed\n",
    "\n",
    "def preprocess_numerical(data):\n",
    "    data_num = data.select_dtypes(exclude = ['object']).drop(columns = ['track_number', 'disc_number', 'key'])\n",
    "\n",
    "    preproc_num = preprocess_data(data_num)\n",
    "\n",
    "    return preproc_num"
   ]
  },
  {
   "cell_type": "code",
   "execution_count": 20,
   "metadata": {},
   "outputs": [],
   "source": [
    "def init_model(data,\n",
    "               n_neighbors,\n",
    "               n_components=7):\n",
    "    \"\"\"\n",
    "    Initialize the model and return the model object\n",
    "    \"\"\"\n",
    "    preproc_num = preprocess_numerical(data)\n",
    "    data_pca = pca(preproc_num, n_components)\n",
    "    song_knn = fit_nn(data_pca, n_neighbors)\n",
    "\n",
    "    return song_knn, data_pca\n",
    "\n",
    "\n",
    "def find_artist(data,\n",
    "                artist_name,\n",
    "                song_name,\n",
    "                n_neighbors, model, data_proc):\n",
    "    \"\"\"\n",
    "    Finds {n_neighbors} artists that sound like a given song\n",
    "    \"\"\"\n",
    "    #model, data_proc = init_model(data, n_neighbors)\n",
    "\n",
    "    song_index = data.index[(data.name == song_name ) & (data.artists.str.strip('[]').str.strip(\"'\") == artist_name)][0]\n",
    "\n",
    "    similar_artists_i = model.kneighbors(data_proc[song_index].reshape(1, -1),\n",
    "                                         return_distance=False)\n",
    "    \n",
    "    similar_artists = data.iloc[similar_artists_i[0]]['artists'].str.strip('[]').str.strip(\"'\").tolist()\n",
    "\n",
    "    return similar_artists\n",
    "\n",
    "\n",
    "def find_gig(data,\n",
    "             artist_name,\n",
    "             song_name,\n",
    "             n_neighbors, model, data_proc):\n",
    "    \"\"\"\n",
    "    Find the proposed gigs based on a given song\n",
    "    \"\"\"\n",
    "\n",
    "    gig_list = []\n",
    "\n",
    "    similar_artists = find_artist(data,\n",
    "                                 artist_name,\n",
    "                                 song_name,\n",
    "                                 n_neighbors, model, data_proc)\n",
    "\n",
    "    for artist in similar_artists:\n",
    "        gig = api_request(artist)\n",
    "\n",
    "        if len(gig) != 0:\n",
    "            return 'No gigs found'\n",
    "        else:\n",
    "            gig_list.append(gig)\n",
    "\n",
    "    return gig_list"
   ]
  },
  {
   "cell_type": "code",
   "execution_count": 24,
   "metadata": {},
   "outputs": [
    {
     "data": {
      "text/plain": [
       "'No gigs found'"
      ]
     },
     "execution_count": 24,
     "metadata": {},
     "output_type": "execute_result"
    },
    {
     "ename": "",
     "evalue": "",
     "output_type": "error",
     "traceback": [
      "\u001b[1;31mThe Kernel crashed while executing code in the the current cell or a previous cell. Please review the code in the cell(s) to identify a possible cause of the failure. Click <a href='https://aka.ms/vscodeJupyterKernelCrash'>here</a> for more info. View Jupyter <a href='command:jupyter.viewOutput'>log</a> for further details."
     ]
    }
   ],
   "source": [
    "find_gig(data, 'Radiohead', 'Creep', n_neighbors=20000, model=model, data_proc=data_proc)"
   ]
  },
  {
   "cell_type": "code",
   "execution_count": 14,
   "metadata": {},
   "outputs": [
    {
     "data": {
      "text/plain": [
       "605370"
      ]
     },
     "execution_count": 14,
     "metadata": {},
     "output_type": "execute_result"
    }
   ],
   "source": [
    "find_artist(data, 'Radiohead', 'Creep', 10, model, data_proc)"
   ]
  },
  {
   "cell_type": "code",
   "execution_count": 9,
   "metadata": {},
   "outputs": [],
   "source": [
    "model, data_proc = init_model(data, n_neighbors=10, n_components=7)"
   ]
  }
 ],
 "metadata": {
  "kernelspec": {
   "display_name": "terrible_with_concerts",
   "language": "python",
   "name": "python3"
  },
  "language_info": {
   "codemirror_mode": {
    "name": "ipython",
    "version": 3
   },
   "file_extension": ".py",
   "mimetype": "text/x-python",
   "name": "python",
   "nbconvert_exporter": "python",
   "pygments_lexer": "ipython3",
   "version": "3.10.6"
  },
  "orig_nbformat": 4
 },
 "nbformat": 4,
 "nbformat_minor": 2
}
